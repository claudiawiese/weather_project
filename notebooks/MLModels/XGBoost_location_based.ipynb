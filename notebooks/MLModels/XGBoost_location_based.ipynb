{
  "cells": [
    {
      "cell_type": "markdown",
      "metadata": {
        "id": "GYLDkeJ0bq3s"
      },
      "source": [
        "## XBoosting Modelling"
      ]
    },
    {
      "cell_type": "markdown",
      "metadata": {
        "id": "a7JLPoOlbvY-"
      },
      "source": [
        "### Import relevant libraries and dataset"
      ]
    },
    {
      "cell_type": "code",
      "execution_count": 1,
      "metadata": {
        "id": "uECKdp_6cmcM"
      },
      "outputs": [],
      "source": [
        "import pandas as pd\n",
        "import numpy as np\n",
        "import matplotlib.pyplot as plt\n",
        "import seaborn as sns\n",
        "\n",
        "\n",
        "from collections import Counter\n",
        "\n",
        "from sklearn.preprocessing import LabelEncoder\n",
        "from imblearn.over_sampling import RandomOverSampler, SMOTE\n",
        "from imblearn.under_sampling import RandomUnderSampler, ClusterCentroids\n",
        "\n",
        "from sklearn.metrics import RocCurveDisplay, roc_curve, auc\n",
        "from sklearn.model_selection import train_test_split, GridSearchCV, cross_validate\n",
        "from sklearn.metrics import classification_report, confusion_matrix, accuracy_score\n",
        "from sklearn.metrics import make_scorer, precision_score, recall_score, f1_score\n",
        "from sklearn.ensemble import RandomForestClassifier, AdaBoostClassifier\n",
        "\n",
        "from xgboost import XGBClassifier\n",
        "\n",
        "from joblib import dump, load"
      ]
    },
    {
      "cell_type": "code",
      "execution_count": 2,
      "metadata": {
        "colab": {
          "base_uri": "https://localhost:8080/",
          "height": 313
        },
        "id": "ZToPijAW5Nma",
        "outputId": "36ba8175-1448-4f05-a451-54d010124f1b",
        "scrolled": true
      },
      "outputs": [
        {
          "output_type": "execute_result",
          "data": {
            "text/plain": [
              "         Date Location  Year  Month  RainToday  RainTomorrow  Rainfall  \\\n",
              "0  2009-01-01    Cobar  2009      1        0.0           0.0 -0.254034   \n",
              "1  2009-01-02    Cobar  2009      1        0.0           0.0 -0.254034   \n",
              "2  2009-01-03    Cobar  2009      1        0.0           0.0 -0.254034   \n",
              "3  2009-01-04    Cobar  2009      1        0.0           0.0 -0.254034   \n",
              "4  2009-01-05    Cobar  2009      1        0.0           0.0 -0.254034   \n",
              "\n",
              "   Evaporation  Sunshine  WindGustSpeed  WindGustDir_angle  Latitude  \\\n",
              "0     1.452543  1.231645       0.544048           0.367568 -0.016581   \n",
              "1     2.092290  1.417426      -0.274399           0.142577 -0.016581   \n",
              "2     1.589632  1.497046      -0.795229          -0.307405 -0.016581   \n",
              "3     1.178365  0.780464       0.395239          -1.432358 -0.016581   \n",
              "4     1.315454  1.205105      -0.720824           1.267530 -0.016581   \n",
              "\n",
              "   Longitude     Cloud  Pressure  Temperature  Humidity  temp_fluctuation  \n",
              "0   0.134517 -0.346762 -1.566909     1.483789 -2.239319          1.266185  \n",
              "1   0.134517 -1.337620 -0.534263     0.523016 -2.103988         -0.123978  \n",
              "2   0.134517 -1.337620 -0.664246     1.892307 -2.753579          1.531952  \n",
              "3   0.134517 -0.346762 -0.787008     1.756134 -1.400263          1.450178  \n",
              "4   0.134517 -0.544934 -0.765344     1.839351 -1.535595          1.102637  "
            ],
            "text/html": [
              "\n",
              "  <div id=\"df-3e56589b-d5a2-4e6c-8302-ab52087cda53\" class=\"colab-df-container\">\n",
              "    <div>\n",
              "<style scoped>\n",
              "    .dataframe tbody tr th:only-of-type {\n",
              "        vertical-align: middle;\n",
              "    }\n",
              "\n",
              "    .dataframe tbody tr th {\n",
              "        vertical-align: top;\n",
              "    }\n",
              "\n",
              "    .dataframe thead th {\n",
              "        text-align: right;\n",
              "    }\n",
              "</style>\n",
              "<table border=\"1\" class=\"dataframe\">\n",
              "  <thead>\n",
              "    <tr style=\"text-align: right;\">\n",
              "      <th></th>\n",
              "      <th>Date</th>\n",
              "      <th>Location</th>\n",
              "      <th>Year</th>\n",
              "      <th>Month</th>\n",
              "      <th>RainToday</th>\n",
              "      <th>RainTomorrow</th>\n",
              "      <th>Rainfall</th>\n",
              "      <th>Evaporation</th>\n",
              "      <th>Sunshine</th>\n",
              "      <th>WindGustSpeed</th>\n",
              "      <th>WindGustDir_angle</th>\n",
              "      <th>Latitude</th>\n",
              "      <th>Longitude</th>\n",
              "      <th>Cloud</th>\n",
              "      <th>Pressure</th>\n",
              "      <th>Temperature</th>\n",
              "      <th>Humidity</th>\n",
              "      <th>temp_fluctuation</th>\n",
              "    </tr>\n",
              "  </thead>\n",
              "  <tbody>\n",
              "    <tr>\n",
              "      <th>0</th>\n",
              "      <td>2009-01-01</td>\n",
              "      <td>Cobar</td>\n",
              "      <td>2009</td>\n",
              "      <td>1</td>\n",
              "      <td>0.0</td>\n",
              "      <td>0.0</td>\n",
              "      <td>-0.254034</td>\n",
              "      <td>1.452543</td>\n",
              "      <td>1.231645</td>\n",
              "      <td>0.544048</td>\n",
              "      <td>0.367568</td>\n",
              "      <td>-0.016581</td>\n",
              "      <td>0.134517</td>\n",
              "      <td>-0.346762</td>\n",
              "      <td>-1.566909</td>\n",
              "      <td>1.483789</td>\n",
              "      <td>-2.239319</td>\n",
              "      <td>1.266185</td>\n",
              "    </tr>\n",
              "    <tr>\n",
              "      <th>1</th>\n",
              "      <td>2009-01-02</td>\n",
              "      <td>Cobar</td>\n",
              "      <td>2009</td>\n",
              "      <td>1</td>\n",
              "      <td>0.0</td>\n",
              "      <td>0.0</td>\n",
              "      <td>-0.254034</td>\n",
              "      <td>2.092290</td>\n",
              "      <td>1.417426</td>\n",
              "      <td>-0.274399</td>\n",
              "      <td>0.142577</td>\n",
              "      <td>-0.016581</td>\n",
              "      <td>0.134517</td>\n",
              "      <td>-1.337620</td>\n",
              "      <td>-0.534263</td>\n",
              "      <td>0.523016</td>\n",
              "      <td>-2.103988</td>\n",
              "      <td>-0.123978</td>\n",
              "    </tr>\n",
              "    <tr>\n",
              "      <th>2</th>\n",
              "      <td>2009-01-03</td>\n",
              "      <td>Cobar</td>\n",
              "      <td>2009</td>\n",
              "      <td>1</td>\n",
              "      <td>0.0</td>\n",
              "      <td>0.0</td>\n",
              "      <td>-0.254034</td>\n",
              "      <td>1.589632</td>\n",
              "      <td>1.497046</td>\n",
              "      <td>-0.795229</td>\n",
              "      <td>-0.307405</td>\n",
              "      <td>-0.016581</td>\n",
              "      <td>0.134517</td>\n",
              "      <td>-1.337620</td>\n",
              "      <td>-0.664246</td>\n",
              "      <td>1.892307</td>\n",
              "      <td>-2.753579</td>\n",
              "      <td>1.531952</td>\n",
              "    </tr>\n",
              "    <tr>\n",
              "      <th>3</th>\n",
              "      <td>2009-01-04</td>\n",
              "      <td>Cobar</td>\n",
              "      <td>2009</td>\n",
              "      <td>1</td>\n",
              "      <td>0.0</td>\n",
              "      <td>0.0</td>\n",
              "      <td>-0.254034</td>\n",
              "      <td>1.178365</td>\n",
              "      <td>0.780464</td>\n",
              "      <td>0.395239</td>\n",
              "      <td>-1.432358</td>\n",
              "      <td>-0.016581</td>\n",
              "      <td>0.134517</td>\n",
              "      <td>-0.346762</td>\n",
              "      <td>-0.787008</td>\n",
              "      <td>1.756134</td>\n",
              "      <td>-1.400263</td>\n",
              "      <td>1.450178</td>\n",
              "    </tr>\n",
              "    <tr>\n",
              "      <th>4</th>\n",
              "      <td>2009-01-05</td>\n",
              "      <td>Cobar</td>\n",
              "      <td>2009</td>\n",
              "      <td>1</td>\n",
              "      <td>0.0</td>\n",
              "      <td>0.0</td>\n",
              "      <td>-0.254034</td>\n",
              "      <td>1.315454</td>\n",
              "      <td>1.205105</td>\n",
              "      <td>-0.720824</td>\n",
              "      <td>1.267530</td>\n",
              "      <td>-0.016581</td>\n",
              "      <td>0.134517</td>\n",
              "      <td>-0.544934</td>\n",
              "      <td>-0.765344</td>\n",
              "      <td>1.839351</td>\n",
              "      <td>-1.535595</td>\n",
              "      <td>1.102637</td>\n",
              "    </tr>\n",
              "  </tbody>\n",
              "</table>\n",
              "</div>\n",
              "    <div class=\"colab-df-buttons\">\n",
              "\n",
              "  <div class=\"colab-df-container\">\n",
              "    <button class=\"colab-df-convert\" onclick=\"convertToInteractive('df-3e56589b-d5a2-4e6c-8302-ab52087cda53')\"\n",
              "            title=\"Convert this dataframe to an interactive table.\"\n",
              "            style=\"display:none;\">\n",
              "\n",
              "  <svg xmlns=\"http://www.w3.org/2000/svg\" height=\"24px\" viewBox=\"0 -960 960 960\">\n",
              "    <path d=\"M120-120v-720h720v720H120Zm60-500h600v-160H180v160Zm220 220h160v-160H400v160Zm0 220h160v-160H400v160ZM180-400h160v-160H180v160Zm440 0h160v-160H620v160ZM180-180h160v-160H180v160Zm440 0h160v-160H620v160Z\"/>\n",
              "  </svg>\n",
              "    </button>\n",
              "\n",
              "  <style>\n",
              "    .colab-df-container {\n",
              "      display:flex;\n",
              "      gap: 12px;\n",
              "    }\n",
              "\n",
              "    .colab-df-convert {\n",
              "      background-color: #E8F0FE;\n",
              "      border: none;\n",
              "      border-radius: 50%;\n",
              "      cursor: pointer;\n",
              "      display: none;\n",
              "      fill: #1967D2;\n",
              "      height: 32px;\n",
              "      padding: 0 0 0 0;\n",
              "      width: 32px;\n",
              "    }\n",
              "\n",
              "    .colab-df-convert:hover {\n",
              "      background-color: #E2EBFA;\n",
              "      box-shadow: 0px 1px 2px rgba(60, 64, 67, 0.3), 0px 1px 3px 1px rgba(60, 64, 67, 0.15);\n",
              "      fill: #174EA6;\n",
              "    }\n",
              "\n",
              "    .colab-df-buttons div {\n",
              "      margin-bottom: 4px;\n",
              "    }\n",
              "\n",
              "    [theme=dark] .colab-df-convert {\n",
              "      background-color: #3B4455;\n",
              "      fill: #D2E3FC;\n",
              "    }\n",
              "\n",
              "    [theme=dark] .colab-df-convert:hover {\n",
              "      background-color: #434B5C;\n",
              "      box-shadow: 0px 1px 3px 1px rgba(0, 0, 0, 0.15);\n",
              "      filter: drop-shadow(0px 1px 2px rgba(0, 0, 0, 0.3));\n",
              "      fill: #FFFFFF;\n",
              "    }\n",
              "  </style>\n",
              "\n",
              "    <script>\n",
              "      const buttonEl =\n",
              "        document.querySelector('#df-3e56589b-d5a2-4e6c-8302-ab52087cda53 button.colab-df-convert');\n",
              "      buttonEl.style.display =\n",
              "        google.colab.kernel.accessAllowed ? 'block' : 'none';\n",
              "\n",
              "      async function convertToInteractive(key) {\n",
              "        const element = document.querySelector('#df-3e56589b-d5a2-4e6c-8302-ab52087cda53');\n",
              "        const dataTable =\n",
              "          await google.colab.kernel.invokeFunction('convertToInteractive',\n",
              "                                                    [key], {});\n",
              "        if (!dataTable) return;\n",
              "\n",
              "        const docLinkHtml = 'Like what you see? Visit the ' +\n",
              "          '<a target=\"_blank\" href=https://colab.research.google.com/notebooks/data_table.ipynb>data table notebook</a>'\n",
              "          + ' to learn more about interactive tables.';\n",
              "        element.innerHTML = '';\n",
              "        dataTable['output_type'] = 'display_data';\n",
              "        await google.colab.output.renderOutput(dataTable, element);\n",
              "        const docLink = document.createElement('div');\n",
              "        docLink.innerHTML = docLinkHtml;\n",
              "        element.appendChild(docLink);\n",
              "      }\n",
              "    </script>\n",
              "  </div>\n",
              "\n",
              "\n",
              "<div id=\"df-230dd51c-ea55-4705-bf86-b9fec033f912\">\n",
              "  <button class=\"colab-df-quickchart\" onclick=\"quickchart('df-230dd51c-ea55-4705-bf86-b9fec033f912')\"\n",
              "            title=\"Suggest charts\"\n",
              "            style=\"display:none;\">\n",
              "\n",
              "<svg xmlns=\"http://www.w3.org/2000/svg\" height=\"24px\"viewBox=\"0 0 24 24\"\n",
              "     width=\"24px\">\n",
              "    <g>\n",
              "        <path d=\"M19 3H5c-1.1 0-2 .9-2 2v14c0 1.1.9 2 2 2h14c1.1 0 2-.9 2-2V5c0-1.1-.9-2-2-2zM9 17H7v-7h2v7zm4 0h-2V7h2v10zm4 0h-2v-4h2v4z\"/>\n",
              "    </g>\n",
              "</svg>\n",
              "  </button>\n",
              "\n",
              "<style>\n",
              "  .colab-df-quickchart {\n",
              "      --bg-color: #E8F0FE;\n",
              "      --fill-color: #1967D2;\n",
              "      --hover-bg-color: #E2EBFA;\n",
              "      --hover-fill-color: #174EA6;\n",
              "      --disabled-fill-color: #AAA;\n",
              "      --disabled-bg-color: #DDD;\n",
              "  }\n",
              "\n",
              "  [theme=dark] .colab-df-quickchart {\n",
              "      --bg-color: #3B4455;\n",
              "      --fill-color: #D2E3FC;\n",
              "      --hover-bg-color: #434B5C;\n",
              "      --hover-fill-color: #FFFFFF;\n",
              "      --disabled-bg-color: #3B4455;\n",
              "      --disabled-fill-color: #666;\n",
              "  }\n",
              "\n",
              "  .colab-df-quickchart {\n",
              "    background-color: var(--bg-color);\n",
              "    border: none;\n",
              "    border-radius: 50%;\n",
              "    cursor: pointer;\n",
              "    display: none;\n",
              "    fill: var(--fill-color);\n",
              "    height: 32px;\n",
              "    padding: 0;\n",
              "    width: 32px;\n",
              "  }\n",
              "\n",
              "  .colab-df-quickchart:hover {\n",
              "    background-color: var(--hover-bg-color);\n",
              "    box-shadow: 0 1px 2px rgba(60, 64, 67, 0.3), 0 1px 3px 1px rgba(60, 64, 67, 0.15);\n",
              "    fill: var(--button-hover-fill-color);\n",
              "  }\n",
              "\n",
              "  .colab-df-quickchart-complete:disabled,\n",
              "  .colab-df-quickchart-complete:disabled:hover {\n",
              "    background-color: var(--disabled-bg-color);\n",
              "    fill: var(--disabled-fill-color);\n",
              "    box-shadow: none;\n",
              "  }\n",
              "\n",
              "  .colab-df-spinner {\n",
              "    border: 2px solid var(--fill-color);\n",
              "    border-color: transparent;\n",
              "    border-bottom-color: var(--fill-color);\n",
              "    animation:\n",
              "      spin 1s steps(1) infinite;\n",
              "  }\n",
              "\n",
              "  @keyframes spin {\n",
              "    0% {\n",
              "      border-color: transparent;\n",
              "      border-bottom-color: var(--fill-color);\n",
              "      border-left-color: var(--fill-color);\n",
              "    }\n",
              "    20% {\n",
              "      border-color: transparent;\n",
              "      border-left-color: var(--fill-color);\n",
              "      border-top-color: var(--fill-color);\n",
              "    }\n",
              "    30% {\n",
              "      border-color: transparent;\n",
              "      border-left-color: var(--fill-color);\n",
              "      border-top-color: var(--fill-color);\n",
              "      border-right-color: var(--fill-color);\n",
              "    }\n",
              "    40% {\n",
              "      border-color: transparent;\n",
              "      border-right-color: var(--fill-color);\n",
              "      border-top-color: var(--fill-color);\n",
              "    }\n",
              "    60% {\n",
              "      border-color: transparent;\n",
              "      border-right-color: var(--fill-color);\n",
              "    }\n",
              "    80% {\n",
              "      border-color: transparent;\n",
              "      border-right-color: var(--fill-color);\n",
              "      border-bottom-color: var(--fill-color);\n",
              "    }\n",
              "    90% {\n",
              "      border-color: transparent;\n",
              "      border-bottom-color: var(--fill-color);\n",
              "    }\n",
              "  }\n",
              "</style>\n",
              "\n",
              "  <script>\n",
              "    async function quickchart(key) {\n",
              "      const quickchartButtonEl =\n",
              "        document.querySelector('#' + key + ' button');\n",
              "      quickchartButtonEl.disabled = true;  // To prevent multiple clicks.\n",
              "      quickchartButtonEl.classList.add('colab-df-spinner');\n",
              "      try {\n",
              "        const charts = await google.colab.kernel.invokeFunction(\n",
              "            'suggestCharts', [key], {});\n",
              "      } catch (error) {\n",
              "        console.error('Error during call to suggestCharts:', error);\n",
              "      }\n",
              "      quickchartButtonEl.classList.remove('colab-df-spinner');\n",
              "      quickchartButtonEl.classList.add('colab-df-quickchart-complete');\n",
              "    }\n",
              "    (() => {\n",
              "      let quickchartButtonEl =\n",
              "        document.querySelector('#df-230dd51c-ea55-4705-bf86-b9fec033f912 button');\n",
              "      quickchartButtonEl.style.display =\n",
              "        google.colab.kernel.accessAllowed ? 'block' : 'none';\n",
              "    })();\n",
              "  </script>\n",
              "</div>\n",
              "    </div>\n",
              "  </div>\n"
            ],
            "application/vnd.google.colaboratory.intrinsic+json": {
              "type": "dataframe",
              "variable_name": "df",
              "summary": "{\n  \"name\": \"df\",\n  \"rows\": 67725,\n  \"fields\": [\n    {\n      \"column\": \"Date\",\n      \"properties\": {\n        \"dtype\": \"object\",\n        \"num_unique_values\": 3009,\n        \"samples\": [\n          \"2011-01-17\",\n          \"2010-11-12\",\n          \"2015-07-21\"\n        ],\n        \"semantic_type\": \"\",\n        \"description\": \"\"\n      }\n    },\n    {\n      \"column\": \"Location\",\n      \"properties\": {\n        \"dtype\": \"category\",\n        \"num_unique_values\": 23,\n        \"samples\": [\n          \"Townsville\",\n          \"MelbourneAirport\",\n          \"Cobar\"\n        ],\n        \"semantic_type\": \"\",\n        \"description\": \"\"\n      }\n    },\n    {\n      \"column\": \"Year\",\n      \"properties\": {\n        \"dtype\": \"number\",\n        \"std\": 2,\n        \"min\": 2009,\n        \"max\": 2017,\n        \"num_unique_values\": 9,\n        \"samples\": [\n          2016,\n          2010,\n          2014\n        ],\n        \"semantic_type\": \"\",\n        \"description\": \"\"\n      }\n    },\n    {\n      \"column\": \"Month\",\n      \"properties\": {\n        \"dtype\": \"number\",\n        \"std\": 3,\n        \"min\": 1,\n        \"max\": 12,\n        \"num_unique_values\": 12,\n        \"samples\": [\n          11,\n          10,\n          1\n        ],\n        \"semantic_type\": \"\",\n        \"description\": \"\"\n      }\n    },\n    {\n      \"column\": \"RainToday\",\n      \"properties\": {\n        \"dtype\": \"number\",\n        \"std\": 0.4111642614538846,\n        \"min\": 0.0,\n        \"max\": 1.0,\n        \"num_unique_values\": 2,\n        \"samples\": [\n          1.0,\n          0.0\n        ],\n        \"semantic_type\": \"\",\n        \"description\": \"\"\n      }\n    },\n    {\n      \"column\": \"RainTomorrow\",\n      \"properties\": {\n        \"dtype\": \"number\",\n        \"std\": 0.40983966952137074,\n        \"min\": 0.0,\n        \"max\": 1.0,\n        \"num_unique_values\": 2,\n        \"samples\": [\n          1.0,\n          0.0\n        ],\n        \"semantic_type\": \"\",\n        \"description\": \"\"\n      }\n    },\n    {\n      \"column\": \"Rainfall\",\n      \"properties\": {\n        \"dtype\": \"number\",\n        \"std\": 1.00000738287984,\n        \"min\": -0.2540338794436296,\n        \"max\": 39.39431492032314,\n        \"num_unique_values\": 577,\n        \"samples\": [\n          2.0970811437231327,\n          9.022183575596143\n        ],\n        \"semantic_type\": \"\",\n        \"description\": \"\"\n      }\n    },\n    {\n      \"column\": \"Evaporation\",\n      \"properties\": {\n        \"dtype\": \"number\",\n        \"std\": 0.9832898843044436,\n        \"min\": -1.2892324254142842,\n        \"max\": 31.840552186915097,\n        \"num_unique_values\": 1394,\n        \"samples\": [\n          0.5294785091660046,\n          -0.091990553906657\n        ],\n        \"semantic_type\": \"\",\n        \"description\": \"\"\n      }\n    },\n    {\n      \"column\": \"Sunshine\",\n      \"properties\": {\n        \"dtype\": \"number\",\n        \"std\": 0.9789537770924686,\n        \"min\": -2.032782990210686,\n        \"max\": 1.815526793031444,\n        \"num_unique_values\": 1678,\n        \"samples\": [\n          -1.305585141515277,\n          1.0936369578301612\n        ],\n        \"semantic_type\": \"\",\n        \"description\": \"\"\n      }\n    },\n    {\n      \"column\": \"WindGustSpeed\",\n      \"properties\": {\n        \"dtype\": \"number\",\n        \"std\": 0.9945270584350349,\n        \"min\": -2.357717701981097,\n        \"max\": 7.017217203564912,\n        \"num_unique_values\": 392,\n        \"samples\": [\n          1.823800882873552,\n          0.707737203641884\n        ],\n        \"semantic_type\": \"\",\n        \"description\": \"\"\n      }\n    },\n    {\n      \"column\": \"WindGustDir_angle\",\n      \"properties\": {\n        \"dtype\": \"number\",\n        \"std\": 0.9934669564888934,\n        \"min\": -1.65734871431444,\n        \"max\": 1.71751168262554,\n        \"num_unique_values\": 134,\n        \"samples\": [\n          1.6275154053738077,\n          -1.0723729121781769\n        ],\n        \"semantic_type\": \"\",\n        \"description\": \"\"\n      }\n    },\n    {\n      \"column\": \"Latitude\",\n      \"properties\": {\n        \"dtype\": \"number\",\n        \"std\": 1.00000738287984,\n        \"min\": -1.5811662099582842,\n        \"max\": 2.599572443397869,\n        \"num_unique_values\": 23,\n        \"samples\": [\n          1.665818331698924,\n          -0.8647438109137519\n        ],\n        \"semantic_type\": \"\",\n        \"description\": \"\"\n      }\n    },\n    {\n      \"column\": \"Longitude\",\n      \"properties\": {\n        \"dtype\": \"number\",\n        \"std\": 1.0000073828798397,\n        \"min\": -2.9759984810005045,\n        \"max\": 2.437421924140241,\n        \"num_unique_values\": 23,\n        \"samples\": [\n          0.2375365068110012,\n          0.0318727076631169\n        ],\n        \"semantic_type\": \"\",\n        \"description\": \"\"\n      }\n    },\n    {\n      \"column\": \"Cloud\",\n      \"properties\": {\n        \"dtype\": \"number\",\n        \"std\": 0.9855612713739771,\n        \"min\": -1.733963634536681,\n        \"max\": 1.8331250946489268,\n        \"num_unique_values\": 166,\n        \"samples\": [\n          0.8026327951064178,\n          0.4459239221878572\n        ],\n        \"semantic_type\": \"\",\n        \"description\": \"\"\n      }\n    },\n    {\n      \"column\": \"Pressure\",\n      \"properties\": {\n        \"dtype\": \"number\",\n        \"std\": 0.9978210996208949,\n        \"min\": -5.264215542189941,\n        \"max\": 3.386904302060353,\n        \"num_unique_values\": 1807,\n        \"samples\": [\n          0.3034083308626155,\n          -1.0397538486286602\n        ],\n        \"semantic_type\": \"\",\n        \"description\": \"\"\n      }\n    },\n    {\n      \"column\": \"Temperature\",\n      \"properties\": {\n        \"dtype\": \"number\",\n        \"std\": 0.9999902095016929,\n        \"min\": -2.722432141851724,\n        \"max\": 3.238903097318252,\n        \"num_unique_values\": 1076,\n        \"samples\": [\n          2.5353444967563146,\n          0.9239683470821962\n        ],\n        \"semantic_type\": \"\",\n        \"description\": \"\"\n      }\n    },\n    {\n      \"column\": \"Humidity\",\n      \"properties\": {\n        \"dtype\": \"number\",\n        \"std\": 1.00033403212235,\n        \"min\": -3.0783752973917515,\n        \"max\": 2.2807569493239246,\n        \"num_unique_values\": 324,\n        \"samples\": [\n          -2.5370488078245117,\n          0.9545070498841864\n        ],\n        \"semantic_type\": \"\",\n        \"description\": \"\"\n      }\n    },\n    {\n      \"column\": \"temp_fluctuation\",\n      \"properties\": {\n        \"dtype\": \"number\",\n        \"std\": 1.00000738287984,\n        \"min\": -2.270552656543579,\n        \"max\": 4.107841943084989,\n        \"num_unique_values\": 886,\n        \"samples\": [\n          0.5506603394459797,\n          1.7159439682242748\n        ],\n        \"semantic_type\": \"\",\n        \"description\": \"\"\n      }\n    }\n  ]\n}"
            }
          },
          "metadata": {},
          "execution_count": 2
        }
      ],
      "source": [
        "df = pd.read_csv('weatherAUS_imputed.csv')\n",
        "df.head()"
      ]
    },
    {
      "cell_type": "code",
      "execution_count": 3,
      "metadata": {
        "id": "94K3a_XJ5Nmh"
      },
      "outputs": [],
      "source": [
        "#We will also define a function to display the confusion matrix and classification_report\n",
        "def confusion_matrix_classification_report(test, pred_test, train, pred_train):\n",
        "    #calculate confusion matrix\n",
        "    conf_matrix = confusion_matrix(test, pred_test)\n",
        "\n",
        "    # Plot confusion matrix\n",
        "    plt.figure(figsize=(8, 6))\n",
        "    sns.set(font_scale=1.2)  # Adjust font scale if needed\n",
        "    sns.heatmap(conf_matrix, annot=True, fmt='d', cmap='Blues', cbar=False, square=True)\n",
        "    plt.xlabel('Predicted values')\n",
        "    plt.ylabel('True values')\n",
        "    plt.title('Confusion Matrix')\n",
        "    plt.show()\n",
        "\n",
        "    # Generate classification report\n",
        "    report = classification_report(test, pred_test)\n",
        "\n",
        "    # Print the classification report\n",
        "    print('-------------------------')\n",
        "    print(report)\n",
        "\n",
        "    # Calculate accuracy for both sets\n",
        "    print('-------------------------')\n",
        "    train_accuracy = accuracy_score(train, pred_train)\n",
        "    test_accuracy = accuracy_score(test, pred_test)\n",
        "    print(\"Accuracy Train Set:\", np.round(train_accuracy,3), \"Accuracy Test Set:\", np.round(test_accuracy,3))"
      ]
    },
    {
      "cell_type": "markdown",
      "metadata": {
        "id": "21j1lawR5Nmk"
      },
      "source": [
        "### Xboosting"
      ]
    },
    {
      "cell_type": "markdown",
      "metadata": {
        "id": "MtQlXzzK5Nmm"
      },
      "source": [
        "### 1. Without Over and Undersampling"
      ]
    },
    {
      "cell_type": "code",
      "execution_count": 4,
      "metadata": {
        "id": "WZw8Y5ov5Nmo"
      },
      "outputs": [],
      "source": [
        "data = df.drop(columns=['RainTomorrow', 'Location', 'Date'])\n",
        "target = df['RainTomorrow']\n",
        "X_train, X_test, y_train, y_test = train_test_split(data, target, test_size=0.2, random_state=42)"
      ]
    },
    {
      "cell_type": "markdown",
      "metadata": {
        "id": "xX57C8rB5Nmp"
      },
      "source": [
        "### 1.1 Default Xboosting model"
      ]
    },
    {
      "cell_type": "code",
      "execution_count": 5,
      "metadata": {
        "colab": {
          "base_uri": "https://localhost:8080/",
          "height": 248
        },
        "id": "NPb0OpHteYTX",
        "outputId": "08eaa88d-f8ff-4e26-bfb4-2c8ecb3f6a47"
      },
      "outputs": [
        {
          "output_type": "execute_result",
          "data": {
            "text/plain": [
              "XGBClassifier(base_score=None, booster=None, callbacks=None,\n",
              "              colsample_bylevel=None, colsample_bynode=None,\n",
              "              colsample_bytree=None, device=None, early_stopping_rounds=None,\n",
              "              enable_categorical=False, eval_metric=None, feature_types=None,\n",
              "              gamma=None, grow_policy=None, importance_type=None,\n",
              "              interaction_constraints=None, learning_rate=None, max_bin=None,\n",
              "              max_cat_threshold=None, max_cat_to_onehot=None,\n",
              "              max_delta_step=None, max_depth=None, max_leaves=None,\n",
              "              min_child_weight=None, missing=nan, monotone_constraints=None,\n",
              "              multi_strategy=None, n_estimators=None, n_jobs=None,\n",
              "              num_parallel_tree=None, random_state=None, ...)"
            ],
            "text/html": [
              "<style>#sk-container-id-1 {color: black;background-color: white;}#sk-container-id-1 pre{padding: 0;}#sk-container-id-1 div.sk-toggleable {background-color: white;}#sk-container-id-1 label.sk-toggleable__label {cursor: pointer;display: block;width: 100%;margin-bottom: 0;padding: 0.3em;box-sizing: border-box;text-align: center;}#sk-container-id-1 label.sk-toggleable__label-arrow:before {content: \"▸\";float: left;margin-right: 0.25em;color: #696969;}#sk-container-id-1 label.sk-toggleable__label-arrow:hover:before {color: black;}#sk-container-id-1 div.sk-estimator:hover label.sk-toggleable__label-arrow:before {color: black;}#sk-container-id-1 div.sk-toggleable__content {max-height: 0;max-width: 0;overflow: hidden;text-align: left;background-color: #f0f8ff;}#sk-container-id-1 div.sk-toggleable__content pre {margin: 0.2em;color: black;border-radius: 0.25em;background-color: #f0f8ff;}#sk-container-id-1 input.sk-toggleable__control:checked~div.sk-toggleable__content {max-height: 200px;max-width: 100%;overflow: auto;}#sk-container-id-1 input.sk-toggleable__control:checked~label.sk-toggleable__label-arrow:before {content: \"▾\";}#sk-container-id-1 div.sk-estimator input.sk-toggleable__control:checked~label.sk-toggleable__label {background-color: #d4ebff;}#sk-container-id-1 div.sk-label input.sk-toggleable__control:checked~label.sk-toggleable__label {background-color: #d4ebff;}#sk-container-id-1 input.sk-hidden--visually {border: 0;clip: rect(1px 1px 1px 1px);clip: rect(1px, 1px, 1px, 1px);height: 1px;margin: -1px;overflow: hidden;padding: 0;position: absolute;width: 1px;}#sk-container-id-1 div.sk-estimator {font-family: monospace;background-color: #f0f8ff;border: 1px dotted black;border-radius: 0.25em;box-sizing: border-box;margin-bottom: 0.5em;}#sk-container-id-1 div.sk-estimator:hover {background-color: #d4ebff;}#sk-container-id-1 div.sk-parallel-item::after {content: \"\";width: 100%;border-bottom: 1px solid gray;flex-grow: 1;}#sk-container-id-1 div.sk-label:hover label.sk-toggleable__label {background-color: #d4ebff;}#sk-container-id-1 div.sk-serial::before {content: \"\";position: absolute;border-left: 1px solid gray;box-sizing: border-box;top: 0;bottom: 0;left: 50%;z-index: 0;}#sk-container-id-1 div.sk-serial {display: flex;flex-direction: column;align-items: center;background-color: white;padding-right: 0.2em;padding-left: 0.2em;position: relative;}#sk-container-id-1 div.sk-item {position: relative;z-index: 1;}#sk-container-id-1 div.sk-parallel {display: flex;align-items: stretch;justify-content: center;background-color: white;position: relative;}#sk-container-id-1 div.sk-item::before, #sk-container-id-1 div.sk-parallel-item::before {content: \"\";position: absolute;border-left: 1px solid gray;box-sizing: border-box;top: 0;bottom: 0;left: 50%;z-index: -1;}#sk-container-id-1 div.sk-parallel-item {display: flex;flex-direction: column;z-index: 1;position: relative;background-color: white;}#sk-container-id-1 div.sk-parallel-item:first-child::after {align-self: flex-end;width: 50%;}#sk-container-id-1 div.sk-parallel-item:last-child::after {align-self: flex-start;width: 50%;}#sk-container-id-1 div.sk-parallel-item:only-child::after {width: 0;}#sk-container-id-1 div.sk-dashed-wrapped {border: 1px dashed gray;margin: 0 0.4em 0.5em 0.4em;box-sizing: border-box;padding-bottom: 0.4em;background-color: white;}#sk-container-id-1 div.sk-label label {font-family: monospace;font-weight: bold;display: inline-block;line-height: 1.2em;}#sk-container-id-1 div.sk-label-container {text-align: center;}#sk-container-id-1 div.sk-container {/* jupyter's `normalize.less` sets `[hidden] { display: none; }` but bootstrap.min.css set `[hidden] { display: none !important; }` so we also need the `!important` here to be able to override the default hidden behavior on the sphinx rendered scikit-learn.org. See: https://github.com/scikit-learn/scikit-learn/issues/21755 */display: inline-block !important;position: relative;}#sk-container-id-1 div.sk-text-repr-fallback {display: none;}</style><div id=\"sk-container-id-1\" class=\"sk-top-container\"><div class=\"sk-text-repr-fallback\"><pre>XGBClassifier(base_score=None, booster=None, callbacks=None,\n",
              "              colsample_bylevel=None, colsample_bynode=None,\n",
              "              colsample_bytree=None, device=None, early_stopping_rounds=None,\n",
              "              enable_categorical=False, eval_metric=None, feature_types=None,\n",
              "              gamma=None, grow_policy=None, importance_type=None,\n",
              "              interaction_constraints=None, learning_rate=None, max_bin=None,\n",
              "              max_cat_threshold=None, max_cat_to_onehot=None,\n",
              "              max_delta_step=None, max_depth=None, max_leaves=None,\n",
              "              min_child_weight=None, missing=nan, monotone_constraints=None,\n",
              "              multi_strategy=None, n_estimators=None, n_jobs=None,\n",
              "              num_parallel_tree=None, random_state=None, ...)</pre><b>In a Jupyter environment, please rerun this cell to show the HTML representation or trust the notebook. <br />On GitHub, the HTML representation is unable to render, please try loading this page with nbviewer.org.</b></div><div class=\"sk-container\" hidden><div class=\"sk-item\"><div class=\"sk-estimator sk-toggleable\"><input class=\"sk-toggleable__control sk-hidden--visually\" id=\"sk-estimator-id-1\" type=\"checkbox\" checked><label for=\"sk-estimator-id-1\" class=\"sk-toggleable__label sk-toggleable__label-arrow\">XGBClassifier</label><div class=\"sk-toggleable__content\"><pre>XGBClassifier(base_score=None, booster=None, callbacks=None,\n",
              "              colsample_bylevel=None, colsample_bynode=None,\n",
              "              colsample_bytree=None, device=None, early_stopping_rounds=None,\n",
              "              enable_categorical=False, eval_metric=None, feature_types=None,\n",
              "              gamma=None, grow_policy=None, importance_type=None,\n",
              "              interaction_constraints=None, learning_rate=None, max_bin=None,\n",
              "              max_cat_threshold=None, max_cat_to_onehot=None,\n",
              "              max_delta_step=None, max_depth=None, max_leaves=None,\n",
              "              min_child_weight=None, missing=nan, monotone_constraints=None,\n",
              "              multi_strategy=None, n_estimators=None, n_jobs=None,\n",
              "              num_parallel_tree=None, random_state=None, ...)</pre></div></div></div></div></div>"
            ]
          },
          "metadata": {},
          "execution_count": 5
        }
      ],
      "source": [
        "xgb = XGBClassifier()\n",
        "xgb.fit(X_train, y_train)"
      ]
    },
    {
      "cell_type": "code",
      "execution_count": 6,
      "metadata": {
        "colab": {
          "base_uri": "https://localhost:8080/",
          "height": 786
        },
        "id": "vnxCkLer5Nms",
        "outputId": "a8356970-9a88-4a59-c84d-406b3410a715",
        "scrolled": false
      },
      "outputs": [
        {
          "output_type": "display_data",
          "data": {
            "text/plain": [
              "<Figure size 800x600 with 1 Axes>"
            ],
            "image/png": "[encoded data removed]"
          },
          "metadata": {}
        },
        {
          "output_type": "stream",
          "name": "stdout",
          "text": [
            "-------------------------\n",
            "              precision    recall  f1-score   support\n",
            "\n",
            "         0.0       0.89      0.94      0.91     10663\n",
            "         1.0       0.72      0.56      0.63      2882\n",
            "\n",
            "    accuracy                           0.86     13545\n",
            "   macro avg       0.80      0.75      0.77     13545\n",
            "weighted avg       0.85      0.86      0.85     13545\n",
            "\n",
            "-------------------------\n",
            "Accuracy Train Set: 0.91 Accuracy Test Set: 0.859\n"
          ]
        }
      ],
      "source": [
        "y_pred_test = xgb.predict(X_test)\n",
        "y_pred_train = xgb.predict(X_train)\n",
        "confusion_matrix_classification_report(y_test, y_pred_test, y_train, y_pred_train)"
      ]
    },
    {
      "cell_type": "markdown",
      "metadata": {
        "id": "H_tXbptM5NnA"
      },
      "source": [
        "### 2. Undersampling"
      ]
    },
    {
      "cell_type": "markdown",
      "metadata": {
        "id": "so4Z6FSU5NnB"
      },
      "source": [
        "**2.1 Random Undersampling**"
      ]
    },
    {
      "cell_type": "code",
      "execution_count": 7,
      "metadata": {
        "id": "Or6wJ-1EmuUz",
        "scrolled": true
      },
      "outputs": [],
      "source": [
        "undersampler = RandomUnderSampler(random_state=42)\n",
        "x_train_undersampled, y_train_undersampled = undersampler.fit_resample(X_train, y_train)\n",
        "\n",
        "# Define the XGBoost classifier\n",
        "xgb = XGBClassifier(n_estimators=300, max_depth=7, learning_rate=0.1)\n",
        "\n",
        "# Fit the model using the undersampled data\n",
        "xgb_rus = xgb.fit(x_train_undersampled, y_train_undersampled)"
      ]
    },
    {
      "cell_type": "code",
      "execution_count": 8,
      "metadata": {
        "id": "Va0-slc05NnE",
        "outputId": "20a18ec5-162a-4d6e-9a5d-43d217013bc2",
        "scrolled": true,
        "colab": {
          "base_uri": "https://localhost:8080/",
          "height": 786
        }
      },
      "outputs": [
        {
          "output_type": "display_data",
          "data": {
            "text/plain": [
              "<Figure size 800x600 with 1 Axes>"
            ],
            "image/png": "[encoded data removed]"
          },
          "metadata": {}
        },
        {
          "output_type": "stream",
          "name": "stdout",
          "text": [
            "-------------------------\n",
            "              precision    recall  f1-score   support\n",
            "\n",
            "         0.0       0.94      0.80      0.87     10663\n",
            "         1.0       0.53      0.81      0.64      2882\n",
            "\n",
            "    accuracy                           0.81     13545\n",
            "   macro avg       0.73      0.81      0.75     13545\n",
            "weighted avg       0.85      0.81      0.82     13545\n",
            "\n",
            "-------------------------\n",
            "Accuracy Train Set: 0.866 Accuracy Test Set: 0.805\n"
          ]
        }
      ],
      "source": [
        "y_pred_rus = xgb_rus.predict(X_test)\n",
        "y_pred_train_rus = xgb_rus.predict(X_train)\n",
        "\n",
        "confusion_matrix_classification_report(y_test, y_pred_rus, y_train, y_pred_train_rus)"
      ]
    },
    {
      "cell_type": "markdown",
      "metadata": {
        "id": "6GbXQcsH5NnI"
      },
      "source": [
        "### 3. Random Undersampling Hyperparameter Tuning"
      ]
    },
    {
      "cell_type": "markdown",
      "metadata": {
        "id": "jsD6k_Gn5NnJ"
      },
      "source": [
        "### 3.1 GridSearchCV"
      ]
    },
    {
      "cell_type": "code",
      "execution_count": 9,
      "metadata": {
        "id": "O4AFVZbC5NnJ"
      },
      "outputs": [],
      "source": [
        "param_grid = {\n",
        "    'n_estimators': [300],  # Number of trees in the forest\n",
        "    'max_depth': [3, 5, 7],  # Maximum depth of each tree\n",
        "    'learning_rate': [0.01, 0.1, 0.3]  # Learning rate\n",
        "}\n",
        "\n",
        "# Perform GridSearchCV for hyperparameter tuning\n",
        "grid_search = GridSearchCV(estimator=xgb, param_grid=param_grid, cv=5, scoring='precision')\n",
        "xgb_rus_grid = grid_search.fit(x_train_undersampled, y_train_undersampled)"
      ]
    },
    {
      "cell_type": "code",
      "execution_count": 10,
      "metadata": {
        "id": "JySbSe-_5Nnh",
        "outputId": "9220d2d8-fd51-4d11-a90d-7a2f6bfbe862",
        "colab": {
          "base_uri": "https://localhost:8080/"
        }
      },
      "outputs": [
        {
          "output_type": "execute_result",
          "data": {
            "text/plain": [
              "['xgb_rus_grid.joblib']"
            ]
          },
          "metadata": {},
          "execution_count": 10
        }
      ],
      "source": [
        "dump(xgb_rus_grid, 'xgb_rus_grid.joblib')"
      ]
    },
    {
      "cell_type": "code",
      "execution_count": 11,
      "metadata": {
        "id": "7zcSrMi85Nni",
        "outputId": "c80bb8cd-3acb-4ba4-90ac-dea9837e8235",
        "colab": {
          "base_uri": "https://localhost:8080/"
        }
      },
      "outputs": [
        {
          "output_type": "execute_result",
          "data": {
            "text/plain": [
              "{'learning_rate': 0.1, 'max_depth': 5, 'n_estimators': 300}"
            ]
          },
          "metadata": {},
          "execution_count": 11
        }
      ],
      "source": [
        "xgb_rus_grid = load('xgb_rus_grid.joblib')\n",
        "xgb_rus_grid .best_params_"
      ]
    },
    {
      "cell_type": "markdown",
      "metadata": {
        "id": "1KUzA6v55Nnj"
      },
      "source": [
        "### 3.2 Best Parameter Fit"
      ]
    },
    {
      "cell_type": "code",
      "execution_count": 12,
      "metadata": {
        "id": "Ja6lAV-k5Nnl"
      },
      "outputs": [],
      "source": [
        "xgb = XGBClassifier(learning_rate = 0.1, max_depth = 5, n_estimators = 300)\n",
        "xgb_rus_best = xgb.fit(x_train_undersampled,y_train_undersampled)"
      ]
    },
    {
      "cell_type": "code",
      "execution_count": 13,
      "metadata": {
        "id": "Yd8vVZhT5Nnm",
        "outputId": "2235b796-e3e1-4b5e-8474-9f2961a6d6eb",
        "colab": {
          "base_uri": "https://localhost:8080/"
        }
      },
      "outputs": [
        {
          "output_type": "execute_result",
          "data": {
            "text/plain": [
              "['xgb_rus_best.joblib']"
            ]
          },
          "metadata": {},
          "execution_count": 13
        }
      ],
      "source": [
        "dump(xgb_rus_best, 'xgb_rus_best.joblib')"
      ]
    },
    {
      "cell_type": "code",
      "execution_count": 14,
      "metadata": {
        "id": "ihwHjwZ15Nnn"
      },
      "outputs": [],
      "source": [
        "xgb_rus_best = load('xgb_rus_best.joblib')"
      ]
    },
    {
      "cell_type": "code",
      "execution_count": 15,
      "metadata": {
        "id": "dFLRzqBz5Nnn",
        "outputId": "25c29998-9525-4363-e9e9-fe8c751e1e54",
        "scrolled": true,
        "colab": {
          "base_uri": "https://localhost:8080/",
          "height": 786
        }
      },
      "outputs": [
        {
          "output_type": "display_data",
          "data": {
            "text/plain": [
              "<Figure size 800x600 with 1 Axes>"
            ],
            "image/png": "[encoded data removed]"
          },
          "metadata": {}
        },
        {
          "output_type": "stream",
          "name": "stdout",
          "text": [
            "-------------------------\n",
            "              precision    recall  f1-score   support\n",
            "\n",
            "         0.0       0.94      0.80      0.87     10663\n",
            "         1.0       0.53      0.82      0.64      2882\n",
            "\n",
            "    accuracy                           0.80     13545\n",
            "   macro avg       0.73      0.81      0.75     13545\n",
            "weighted avg       0.85      0.80      0.82     13545\n",
            "\n",
            "-------------------------\n",
            "Accuracy Train Set: 0.833 Accuracy Test Set: 0.805\n"
          ]
        }
      ],
      "source": [
        "y_pred_rus_best = xgb_rus_best.predict(X_test)\n",
        "y_pred_train_rus_best = xgb_rus_best.predict(X_train)\n",
        "\n",
        "confusion_matrix_classification_report(y_test, y_pred_rus_best, y_train, y_pred_train_rus_best)"
      ]
    },
    {
      "cell_type": "markdown",
      "metadata": {
        "id": "2jEJE4qh5Nnt"
      },
      "source": [
        "### 4. Location-based analysis"
      ]
    },
    {
      "cell_type": "code",
      "execution_count": 16,
      "metadata": {
        "id": "vHXLoRVS5Nnu"
      },
      "outputs": [],
      "source": [
        "def location_scores(sampler, classifier):\n",
        "    locations = df.Location.unique()\n",
        "    region_models = {}\n",
        "    results = []\n",
        "\n",
        "    for location in locations:\n",
        "        region_data = df[df['Location'] == location]\n",
        "        X_loc = region_data.drop(['RainTomorrow', 'Location', 'Date'], axis=1)\n",
        "        y_loc = region_data['RainTomorrow']\n",
        "        X_train_loc, X_test_loc, y_train_loc, y_test_loc = train_test_split(X_loc, y_loc, test_size=0.2, random_state=42)\n",
        "\n",
        "        X_loc_ros,y_loc_ros = sampler.fit_resample(X_train_loc,y_train_loc)\n",
        "\n",
        "        #Train Classifier for each region\n",
        "        classifier.fit(X_loc_ros,  y_loc_ros)\n",
        "        region_models[location] = classifier\n",
        "\n",
        "        #Score for each region\n",
        "        y_pred_loc = classifier.predict(X_test_loc)\n",
        "        accuracy = accuracy_score(y_test_loc, y_pred_loc)\n",
        "        precision = precision_score(y_test_loc, y_pred_loc)\n",
        "        recall = recall_score(y_test_loc, y_pred_loc)\n",
        "        f1 = f1_score(y_test_loc, y_pred_loc)\n",
        "\n",
        "        results.append({\n",
        "            'Location': location,\n",
        "            'Accuracy': round(accuracy, 2),\n",
        "            'Precision': round(precision, 2),\n",
        "            'Recall': round(recall, 2),\n",
        "            'F1': round(f1, 2)\n",
        "        })\n",
        "\n",
        "    # Create DataFrame\n",
        "    results_df = pd.DataFrame(results)\n",
        "\n",
        "    return results_df"
      ]
    },
    {
      "cell_type": "code",
      "source": [
        "location_scores(undersampler, xgb_rus_best)"
      ],
      "metadata": {
        "colab": {
          "base_uri": "https://localhost:8080/",
          "height": 771
        },
        "id": "GFkaekwtgVfZ",
        "outputId": "ffcc6dcd-1427-4902-8282-4d9137246a9d"
      },
      "execution_count": 17,
      "outputs": [
        {
          "output_type": "execute_result",
          "data": {
            "text/plain": [
              "            Location  Accuracy  Precision  Recall    F1\n",
              "0              Cobar      0.86       0.49    0.81  0.61\n",
              "1       CoffsHarbour      0.79       0.62    0.72  0.66\n",
              "2              Moree      0.85       0.44    0.89  0.59\n",
              "3      NorfolkIsland      0.71       0.53    0.69  0.60\n",
              "4      SydneyAirport      0.75       0.50    0.79  0.61\n",
              "5         WaggaWagga      0.83       0.53    0.85  0.65\n",
              "6        Williamtown      0.78       0.52    0.84  0.64\n",
              "7           Canberra      0.77       0.43    0.81  0.56\n",
              "8               Sale      0.75       0.45    0.81  0.58\n",
              "9   MelbourneAirport      0.73       0.41    0.86  0.56\n",
              "10           Mildura      0.81       0.37    0.89  0.52\n",
              "11          Portland      0.77       0.66    0.78  0.71\n",
              "12          Watsonia      0.77       0.51    0.82  0.63\n",
              "13          Brisbane      0.76       0.44    0.73  0.55\n",
              "14            Cairns      0.76       0.55    0.75  0.63\n",
              "15        Townsville      0.82       0.53    0.79  0.64\n",
              "16      MountGambier      0.81       0.65    0.85  0.74\n",
              "17         Nuriootpa      0.83       0.51    0.91  0.65\n",
              "18           Woomera      0.80       0.22    0.82  0.35\n",
              "19      PerthAirport      0.86       0.60    0.88  0.71\n",
              "20            Hobart      0.67       0.37    0.68  0.48\n",
              "21      AliceSprings      0.83       0.30    0.89  0.44\n",
              "22            Darwin      0.83       0.64    0.81  0.72"
            ],
            "text/html": [
              "\n",
              "  <div id=\"df-e6ab03b5-c429-453f-95c1-35a7d2e6138e\" class=\"colab-df-container\">\n",
              "    <div>\n",
              "<style scoped>\n",
              "    .dataframe tbody tr th:only-of-type {\n",
              "        vertical-align: middle;\n",
              "    }\n",
              "\n",
              "    .dataframe tbody tr th {\n",
              "        vertical-align: top;\n",
              "    }\n",
              "\n",
              "    .dataframe thead th {\n",
              "        text-align: right;\n",
              "    }\n",
              "</style>\n",
              "<table border=\"1\" class=\"dataframe\">\n",
              "  <thead>\n",
              "    <tr style=\"text-align: right;\">\n",
              "      <th></th>\n",
              "      <th>Location</th>\n",
              "      <th>Accuracy</th>\n",
              "      <th>Precision</th>\n",
              "      <th>Recall</th>\n",
              "      <th>F1</th>\n",
              "    </tr>\n",
              "  </thead>\n",
              "  <tbody>\n",
              "    <tr>\n",
              "      <th>0</th>\n",
              "      <td>Cobar</td>\n",
              "      <td>0.86</td>\n",
              "      <td>0.49</td>\n",
              "      <td>0.81</td>\n",
              "      <td>0.61</td>\n",
              "    </tr>\n",
              "    <tr>\n",
              "      <th>1</th>\n",
              "      <td>CoffsHarbour</td>\n",
              "      <td>0.79</td>\n",
              "      <td>0.62</td>\n",
              "      <td>0.72</td>\n",
              "      <td>0.66</td>\n",
              "    </tr>\n",
              "    <tr>\n",
              "      <th>2</th>\n",
              "      <td>Moree</td>\n",
              "      <td>0.85</td>\n",
              "      <td>0.44</td>\n",
              "      <td>0.89</td>\n",
              "      <td>0.59</td>\n",
              "    </tr>\n",
              "    <tr>\n",
              "      <th>3</th>\n",
              "      <td>NorfolkIsland</td>\n",
              "      <td>0.71</td>\n",
              "      <td>0.53</td>\n",
              "      <td>0.69</td>\n",
              "      <td>0.60</td>\n",
              "    </tr>\n",
              "    <tr>\n",
              "      <th>4</th>\n",
              "      <td>SydneyAirport</td>\n",
              "      <td>0.75</td>\n",
              "      <td>0.50</td>\n",
              "      <td>0.79</td>\n",
              "      <td>0.61</td>\n",
              "    </tr>\n",
              "    <tr>\n",
              "      <th>5</th>\n",
              "      <td>WaggaWagga</td>\n",
              "      <td>0.83</td>\n",
              "      <td>0.53</td>\n",
              "      <td>0.85</td>\n",
              "      <td>0.65</td>\n",
              "    </tr>\n",
              "    <tr>\n",
              "      <th>6</th>\n",
              "      <td>Williamtown</td>\n",
              "      <td>0.78</td>\n",
              "      <td>0.52</td>\n",
              "      <td>0.84</td>\n",
              "      <td>0.64</td>\n",
              "    </tr>\n",
              "    <tr>\n",
              "      <th>7</th>\n",
              "      <td>Canberra</td>\n",
              "      <td>0.77</td>\n",
              "      <td>0.43</td>\n",
              "      <td>0.81</td>\n",
              "      <td>0.56</td>\n",
              "    </tr>\n",
              "    <tr>\n",
              "      <th>8</th>\n",
              "      <td>Sale</td>\n",
              "      <td>0.75</td>\n",
              "      <td>0.45</td>\n",
              "      <td>0.81</td>\n",
              "      <td>0.58</td>\n",
              "    </tr>\n",
              "    <tr>\n",
              "      <th>9</th>\n",
              "      <td>MelbourneAirport</td>\n",
              "      <td>0.73</td>\n",
              "      <td>0.41</td>\n",
              "      <td>0.86</td>\n",
              "      <td>0.56</td>\n",
              "    </tr>\n",
              "    <tr>\n",
              "      <th>10</th>\n",
              "      <td>Mildura</td>\n",
              "      <td>0.81</td>\n",
              "      <td>0.37</td>\n",
              "      <td>0.89</td>\n",
              "      <td>0.52</td>\n",
              "    </tr>\n",
              "    <tr>\n",
              "      <th>11</th>\n",
              "      <td>Portland</td>\n",
              "      <td>0.77</td>\n",
              "      <td>0.66</td>\n",
              "      <td>0.78</td>\n",
              "      <td>0.71</td>\n",
              "    </tr>\n",
              "    <tr>\n",
              "      <th>12</th>\n",
              "      <td>Watsonia</td>\n",
              "      <td>0.77</td>\n",
              "      <td>0.51</td>\n",
              "      <td>0.82</td>\n",
              "      <td>0.63</td>\n",
              "    </tr>\n",
              "    <tr>\n",
              "      <th>13</th>\n",
              "      <td>Brisbane</td>\n",
              "      <td>0.76</td>\n",
              "      <td>0.44</td>\n",
              "      <td>0.73</td>\n",
              "      <td>0.55</td>\n",
              "    </tr>\n",
              "    <tr>\n",
              "      <th>14</th>\n",
              "      <td>Cairns</td>\n",
              "      <td>0.76</td>\n",
              "      <td>0.55</td>\n",
              "      <td>0.75</td>\n",
              "      <td>0.63</td>\n",
              "    </tr>\n",
              "    <tr>\n",
              "      <th>15</th>\n",
              "      <td>Townsville</td>\n",
              "      <td>0.82</td>\n",
              "      <td>0.53</td>\n",
              "      <td>0.79</td>\n",
              "      <td>0.64</td>\n",
              "    </tr>\n",
              "    <tr>\n",
              "      <th>16</th>\n",
              "      <td>MountGambier</td>\n",
              "      <td>0.81</td>\n",
              "      <td>0.65</td>\n",
              "      <td>0.85</td>\n",
              "      <td>0.74</td>\n",
              "    </tr>\n",
              "    <tr>\n",
              "      <th>17</th>\n",
              "      <td>Nuriootpa</td>\n",
              "      <td>0.83</td>\n",
              "      <td>0.51</td>\n",
              "      <td>0.91</td>\n",
              "      <td>0.65</td>\n",
              "    </tr>\n",
              "    <tr>\n",
              "      <th>18</th>\n",
              "      <td>Woomera</td>\n",
              "      <td>0.80</td>\n",
              "      <td>0.22</td>\n",
              "      <td>0.82</td>\n",
              "      <td>0.35</td>\n",
              "    </tr>\n",
              "    <tr>\n",
              "      <th>19</th>\n",
              "      <td>PerthAirport</td>\n",
              "      <td>0.86</td>\n",
              "      <td>0.60</td>\n",
              "      <td>0.88</td>\n",
              "      <td>0.71</td>\n",
              "    </tr>\n",
              "    <tr>\n",
              "      <th>20</th>\n",
              "      <td>Hobart</td>\n",
              "      <td>0.67</td>\n",
              "      <td>0.37</td>\n",
              "      <td>0.68</td>\n",
              "      <td>0.48</td>\n",
              "    </tr>\n",
              "    <tr>\n",
              "      <th>21</th>\n",
              "      <td>AliceSprings</td>\n",
              "      <td>0.83</td>\n",
              "      <td>0.30</td>\n",
              "      <td>0.89</td>\n",
              "      <td>0.44</td>\n",
              "    </tr>\n",
              "    <tr>\n",
              "      <th>22</th>\n",
              "      <td>Darwin</td>\n",
              "      <td>0.83</td>\n",
              "      <td>0.64</td>\n",
              "      <td>0.81</td>\n",
              "      <td>0.72</td>\n",
              "    </tr>\n",
              "  </tbody>\n",
              "</table>\n",
              "</div>\n",
              "    <div class=\"colab-df-buttons\">\n",
              "\n",
              "  <div class=\"colab-df-container\">\n",
              "    <button class=\"colab-df-convert\" onclick=\"convertToInteractive('df-e6ab03b5-c429-453f-95c1-35a7d2e6138e')\"\n",
              "            title=\"Convert this dataframe to an interactive table.\"\n",
              "            style=\"display:none;\">\n",
              "\n",
              "  <svg xmlns=\"http://www.w3.org/2000/svg\" height=\"24px\" viewBox=\"0 -960 960 960\">\n",
              "    <path d=\"M120-120v-720h720v720H120Zm60-500h600v-160H180v160Zm220 220h160v-160H400v160Zm0 220h160v-160H400v160ZM180-400h160v-160H180v160Zm440 0h160v-160H620v160ZM180-180h160v-160H180v160Zm440 0h160v-160H620v160Z\"/>\n",
              "  </svg>\n",
              "    </button>\n",
              "\n",
              "  <style>\n",
              "    .colab-df-container {\n",
              "      display:flex;\n",
              "      gap: 12px;\n",
              "    }\n",
              "\n",
              "    .colab-df-convert {\n",
              "      background-color: #E8F0FE;\n",
              "      border: none;\n",
              "      border-radius: 50%;\n",
              "      cursor: pointer;\n",
              "      display: none;\n",
              "      fill: #1967D2;\n",
              "      height: 32px;\n",
              "      padding: 0 0 0 0;\n",
              "      width: 32px;\n",
              "    }\n",
              "\n",
              "    .colab-df-convert:hover {\n",
              "      background-color: #E2EBFA;\n",
              "      box-shadow: 0px 1px 2px rgba(60, 64, 67, 0.3), 0px 1px 3px 1px rgba(60, 64, 67, 0.15);\n",
              "      fill: #174EA6;\n",
              "    }\n",
              "\n",
              "    .colab-df-buttons div {\n",
              "      margin-bottom: 4px;\n",
              "    }\n",
              "\n",
              "    [theme=dark] .colab-df-convert {\n",
              "      background-color: #3B4455;\n",
              "      fill: #D2E3FC;\n",
              "    }\n",
              "\n",
              "    [theme=dark] .colab-df-convert:hover {\n",
              "      background-color: #434B5C;\n",
              "      box-shadow: 0px 1px 3px 1px rgba(0, 0, 0, 0.15);\n",
              "      filter: drop-shadow(0px 1px 2px rgba(0, 0, 0, 0.3));\n",
              "      fill: #FFFFFF;\n",
              "    }\n",
              "  </style>\n",
              "\n",
              "    <script>\n",
              "      const buttonEl =\n",
              "        document.querySelector('#df-e6ab03b5-c429-453f-95c1-35a7d2e6138e button.colab-df-convert');\n",
              "      buttonEl.style.display =\n",
              "        google.colab.kernel.accessAllowed ? 'block' : 'none';\n",
              "\n",
              "      async function convertToInteractive(key) {\n",
              "        const element = document.querySelector('#df-e6ab03b5-c429-453f-95c1-35a7d2e6138e');\n",
              "        const dataTable =\n",
              "          await google.colab.kernel.invokeFunction('convertToInteractive',\n",
              "                                                    [key], {});\n",
              "        if (!dataTable) return;\n",
              "\n",
              "        const docLinkHtml = 'Like what you see? Visit the ' +\n",
              "          '<a target=\"_blank\" href=https://colab.research.google.com/notebooks/data_table.ipynb>data table notebook</a>'\n",
              "          + ' to learn more about interactive tables.';\n",
              "        element.innerHTML = '';\n",
              "        dataTable['output_type'] = 'display_data';\n",
              "        await google.colab.output.renderOutput(dataTable, element);\n",
              "        const docLink = document.createElement('div');\n",
              "        docLink.innerHTML = docLinkHtml;\n",
              "        element.appendChild(docLink);\n",
              "      }\n",
              "    </script>\n",
              "  </div>\n",
              "\n",
              "\n",
              "<div id=\"df-e1d98443-8a97-4f8c-a3cf-e98206be845b\">\n",
              "  <button class=\"colab-df-quickchart\" onclick=\"quickchart('df-e1d98443-8a97-4f8c-a3cf-e98206be845b')\"\n",
              "            title=\"Suggest charts\"\n",
              "            style=\"display:none;\">\n",
              "\n",
              "<svg xmlns=\"http://www.w3.org/2000/svg\" height=\"24px\"viewBox=\"0 0 24 24\"\n",
              "     width=\"24px\">\n",
              "    <g>\n",
              "        <path d=\"M19 3H5c-1.1 0-2 .9-2 2v14c0 1.1.9 2 2 2h14c1.1 0 2-.9 2-2V5c0-1.1-.9-2-2-2zM9 17H7v-7h2v7zm4 0h-2V7h2v10zm4 0h-2v-4h2v4z\"/>\n",
              "    </g>\n",
              "</svg>\n",
              "  </button>\n",
              "\n",
              "<style>\n",
              "  .colab-df-quickchart {\n",
              "      --bg-color: #E8F0FE;\n",
              "      --fill-color: #1967D2;\n",
              "      --hover-bg-color: #E2EBFA;\n",
              "      --hover-fill-color: #174EA6;\n",
              "      --disabled-fill-color: #AAA;\n",
              "      --disabled-bg-color: #DDD;\n",
              "  }\n",
              "\n",
              "  [theme=dark] .colab-df-quickchart {\n",
              "      --bg-color: #3B4455;\n",
              "      --fill-color: #D2E3FC;\n",
              "      --hover-bg-color: #434B5C;\n",
              "      --hover-fill-color: #FFFFFF;\n",
              "      --disabled-bg-color: #3B4455;\n",
              "      --disabled-fill-color: #666;\n",
              "  }\n",
              "\n",
              "  .colab-df-quickchart {\n",
              "    background-color: var(--bg-color);\n",
              "    border: none;\n",
              "    border-radius: 50%;\n",
              "    cursor: pointer;\n",
              "    display: none;\n",
              "    fill: var(--fill-color);\n",
              "    height: 32px;\n",
              "    padding: 0;\n",
              "    width: 32px;\n",
              "  }\n",
              "\n",
              "  .colab-df-quickchart:hover {\n",
              "    background-color: var(--hover-bg-color);\n",
              "    box-shadow: 0 1px 2px rgba(60, 64, 67, 0.3), 0 1px 3px 1px rgba(60, 64, 67, 0.15);\n",
              "    fill: var(--button-hover-fill-color);\n",
              "  }\n",
              "\n",
              "  .colab-df-quickchart-complete:disabled,\n",
              "  .colab-df-quickchart-complete:disabled:hover {\n",
              "    background-color: var(--disabled-bg-color);\n",
              "    fill: var(--disabled-fill-color);\n",
              "    box-shadow: none;\n",
              "  }\n",
              "\n",
              "  .colab-df-spinner {\n",
              "    border: 2px solid var(--fill-color);\n",
              "    border-color: transparent;\n",
              "    border-bottom-color: var(--fill-color);\n",
              "    animation:\n",
              "      spin 1s steps(1) infinite;\n",
              "  }\n",
              "\n",
              "  @keyframes spin {\n",
              "    0% {\n",
              "      border-color: transparent;\n",
              "      border-bottom-color: var(--fill-color);\n",
              "      border-left-color: var(--fill-color);\n",
              "    }\n",
              "    20% {\n",
              "      border-color: transparent;\n",
              "      border-left-color: var(--fill-color);\n",
              "      border-top-color: var(--fill-color);\n",
              "    }\n",
              "    30% {\n",
              "      border-color: transparent;\n",
              "      border-left-color: var(--fill-color);\n",
              "      border-top-color: var(--fill-color);\n",
              "      border-right-color: var(--fill-color);\n",
              "    }\n",
              "    40% {\n",
              "      border-color: transparent;\n",
              "      border-right-color: var(--fill-color);\n",
              "      border-top-color: var(--fill-color);\n",
              "    }\n",
              "    60% {\n",
              "      border-color: transparent;\n",
              "      border-right-color: var(--fill-color);\n",
              "    }\n",
              "    80% {\n",
              "      border-color: transparent;\n",
              "      border-right-color: var(--fill-color);\n",
              "      border-bottom-color: var(--fill-color);\n",
              "    }\n",
              "    90% {\n",
              "      border-color: transparent;\n",
              "      border-bottom-color: var(--fill-color);\n",
              "    }\n",
              "  }\n",
              "</style>\n",
              "\n",
              "  <script>\n",
              "    async function quickchart(key) {\n",
              "      const quickchartButtonEl =\n",
              "        document.querySelector('#' + key + ' button');\n",
              "      quickchartButtonEl.disabled = true;  // To prevent multiple clicks.\n",
              "      quickchartButtonEl.classList.add('colab-df-spinner');\n",
              "      try {\n",
              "        const charts = await google.colab.kernel.invokeFunction(\n",
              "            'suggestCharts', [key], {});\n",
              "      } catch (error) {\n",
              "        console.error('Error during call to suggestCharts:', error);\n",
              "      }\n",
              "      quickchartButtonEl.classList.remove('colab-df-spinner');\n",
              "      quickchartButtonEl.classList.add('colab-df-quickchart-complete');\n",
              "    }\n",
              "    (() => {\n",
              "      let quickchartButtonEl =\n",
              "        document.querySelector('#df-e1d98443-8a97-4f8c-a3cf-e98206be845b button');\n",
              "      quickchartButtonEl.style.display =\n",
              "        google.colab.kernel.accessAllowed ? 'block' : 'none';\n",
              "    })();\n",
              "  </script>\n",
              "</div>\n",
              "    </div>\n",
              "  </div>\n"
            ],
            "application/vnd.google.colaboratory.intrinsic+json": {
              "type": "dataframe",
              "summary": "{\n  \"name\": \"location_scores(undersampler, xgb_rus_best)\",\n  \"rows\": 23,\n  \"fields\": [\n    {\n      \"column\": \"Location\",\n      \"properties\": {\n        \"dtype\": \"string\",\n        \"num_unique_values\": 23,\n        \"samples\": [\n          \"Townsville\",\n          \"MelbourneAirport\",\n          \"Cobar\"\n        ],\n        \"semantic_type\": \"\",\n        \"description\": \"\"\n      }\n    },\n    {\n      \"column\": \"Accuracy\",\n      \"properties\": {\n        \"dtype\": \"number\",\n        \"std\": 0.04873904052344736,\n        \"min\": 0.67,\n        \"max\": 0.86,\n        \"num_unique_values\": 14,\n        \"samples\": [\n          0.81,\n          0.82,\n          0.86\n        ],\n        \"semantic_type\": \"\",\n        \"description\": \"\"\n      }\n    },\n    {\n      \"column\": \"Precision\",\n      \"properties\": {\n        \"dtype\": \"number\",\n        \"std\": 0.1109053650640942,\n        \"min\": 0.22,\n        \"max\": 0.66,\n        \"num_unique_values\": 18,\n        \"samples\": [\n          0.49,\n          0.62,\n          0.41\n        ],\n        \"semantic_type\": \"\",\n        \"description\": \"\"\n      }\n    },\n    {\n      \"column\": \"Recall\",\n      \"properties\": {\n        \"dtype\": \"number\",\n        \"std\": 0.06464252568149093,\n        \"min\": 0.68,\n        \"max\": 0.91,\n        \"num_unique_values\": 15,\n        \"samples\": [\n          0.82,\n          0.75,\n          0.81\n        ],\n        \"semantic_type\": \"\",\n        \"description\": \"\"\n      }\n    },\n    {\n      \"column\": \"F1\",\n      \"properties\": {\n        \"dtype\": \"number\",\n        \"std\": 0.09221044842326151,\n        \"min\": 0.35,\n        \"max\": 0.74,\n        \"num_unique_values\": 17,\n        \"samples\": [\n          0.61,\n          0.66,\n          0.64\n        ],\n        \"semantic_type\": \"\",\n        \"description\": \"\"\n      }\n    }\n  ]\n}"
            }
          },
          "metadata": {},
          "execution_count": 17
        }
      ]
    },
    {
      "cell_type": "markdown",
      "metadata": {
        "id": "CcNzcseX5Nnw"
      },
      "source": [
        "### 8. Conclusion"
      ]
    }
  ],
  "metadata": {
    "colab": {
      "provenance": []
    },
    "kernelspec": {
      "display_name": "Python 3 (ipykernel)",
      "language": "python",
      "name": "python3"
    },
    "language_info": {
      "codemirror_mode": {
        "name": "ipython",
        "version": 3
      },
      "file_extension": ".py",
      "mimetype": "text/x-python",
      "name": "python",
      "nbconvert_exporter": "python",
      "pygments_lexer": "ipython3",
      "version": "3.11.5"
    }
  },
  "nbformat": 4,
  "nbformat_minor": 0
}