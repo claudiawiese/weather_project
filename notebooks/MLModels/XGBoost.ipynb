{
  "nbformat": 4,
  "nbformat_minor": 0,
  "metadata": {
    "colab": {
      "provenance": []
    },
    "kernelspec": {
      "name": "python3",
      "display_name": "Python 3"
    },
    "language_info": {
      "name": "python"
    }
  },
  "cells": [
    {
      "cell_type": "code",
      "execution_count": 2,
      "metadata": {
        "id": "GYLDkeJ0bq3s"
      },
      "outputs": [],
      "source": []
    },
    {
      "cell_type": "code",
      "source": [],
      "metadata": {
        "id": "a7JLPoOlbvY-"
      },
      "execution_count": null,
      "outputs": []
    },
    {
      "cell_type": "code",
      "source": [],
      "metadata": {
        "id": "EQ-XM_8_cfWz"
      },
      "execution_count": 4,
      "outputs": []
    },
    {
      "cell_type": "code",
      "source": [
        "from collections import Counter\n",
        "import matplotlib.pyplot as plt\n",
        "from sklearn.preprocessing import LabelEncoder\n",
        "from imblearn.over_sampling import SMOTE\n",
        "from sklearn.model_selection import train_test_split\n",
        "from sklearn.metrics import r2_score, accuracy_score, auc, roc_curve, confusion_matrix, precision_score, recall_score, f1_score, classification_report\n",
        "from xgboost import XGBClassifier\n",
        "\n"
      ],
      "metadata": {
        "id": "uECKdp_6cmcM"
      },
      "execution_count": 8,
      "outputs": []
    },
    {
      "cell_type": "code",
      "source": [
        "xgb = XGBClassifier()\n",
        "xgb.fit(x_train, y_train)\n",
        "predicted = xgb.predict(x_test)\n",
        "print(\"Accuracy Using XGBoost is {} %\".format(accuracy_score(predicted, y_test)*100))\n",
        "print(classification_report(y_test, predicted))"
      ],
      "metadata": {
        "colab": {
          "base_uri": "https://localhost:8080/"
        },
        "id": "NPb0OpHteYTX",
        "outputId": "559c1d79-a212-424b-9446-f42eb6505d16"
      },
      "execution_count": 9,
      "outputs": [
        {
          "output_type": "stream",
          "name": "stdout",
          "text": [
            "Accuracy Using XGBoost is 85.91362126245848 %\n",
            "              precision    recall  f1-score   support\n",
            "\n",
            "         0.0       0.89      0.94      0.91     10663\n",
            "         1.0       0.72      0.56      0.63      2882\n",
            "\n",
            "    accuracy                           0.86     13545\n",
            "   macro avg       0.80      0.75      0.77     13545\n",
            "weighted avg       0.85      0.86      0.85     13545\n",
            "\n"
          ]
        }
      ]
    },
    {
      "cell_type": "code",
      "source": [
        "from sklearn.model_selection import GridSearchCV\n",
        "param_grid = {\n",
        "    'n_estimators': [100, 200, 300],  # Number of trees in the forest\n",
        "    'max_depth': [3, 5, 7],  # Maximum depth of each tree\n",
        "    'learning_rate': [0.01, 0.1, 0.3]  # Learning rate\n",
        "}\n",
        "\n",
        "# Perform GridSearchCV for hyperparameter tuning\n",
        "grid_search = GridSearchCV(estimator=xgb, param_grid=param_grid, cv=5, scoring='accuracy')\n",
        "grid_search.fit(x_train, y_train)\n",
        "\n",
        "# Get the best hyperparameters\n",
        "best_params = grid_search.best_params_\n",
        "print(\"Best Hyperparameters:\", best_params)\n",
        "\n",
        "# Use the best model to make predictions\n",
        "best_xgb = grid_search.best_estimator_\n",
        "predicted = best_xgb.predict(x_test)\n",
        "\n",
        "# Calculate accuracy\n",
        "accuracy = accuracy_score(predicted, y_test)\n",
        "print(\"Accuracy using XGBoost after hyperparameter tuning:\", accuracy * 100, \"%\")\n",
        "print(classification_report(y_test, predicted))"
      ],
      "metadata": {
        "id": "m9UjC5ApfHDW",
        "colab": {
          "base_uri": "https://localhost:8080/"
        },
        "outputId": "bc51fef4-8d84-4520-b809-3de798f90a0d"
      },
      "execution_count": 7,
      "outputs": [
        {
          "output_type": "stream",
          "name": "stdout",
          "text": [
            "Best Hyperparameters: {'learning_rate': 0.1, 'max_depth': 7, 'n_estimators': 300}\n",
            "Accuracy using XGBoost after hyperparameter tuning: 86.37873754152824 %\n"
          ]
        }
      ]
    },
    {
      "cell_type": "code",
      "source": [
        "smote = SMOTE(random_state=42)\n",
        "x_train_smote, y_train_smote = smote.fit_resample(x_train, y_train)\n",
        "\n",
        "# Define the XGBoost classifier\n",
        "xgb = XGBClassifier(n_estimators=300, max_depth=7, learning_rate=0.1)\n",
        "\n",
        "# Fit the model using the SMOTE-resampled data\n",
        "xgb.fit(x_train_smote, y_train_smote)\n",
        "\n",
        "# Make predictions on the test set\n",
        "predicted = xgb.predict(x_test)\n",
        "\n",
        "# Calculate accuracy\n",
        "accuracy = accuracy_score(y_test, predicted)\n",
        "print(\"Accuracy using XGBoost after SMOTE:\", accuracy * 100, \"%\")\n",
        "print(classification_report(y_test, predicted))"
      ],
      "metadata": {
        "colab": {
          "base_uri": "https://localhost:8080/"
        },
        "id": "hfZyy04GgmaN",
        "outputId": "6f99f768-281c-48f0-e4a1-e9874ee6eac6"
      },
      "execution_count": 10,
      "outputs": [
        {
          "output_type": "stream",
          "name": "stdout",
          "text": [
            "Accuracy using XGBoost after SMOTE: 85.98006644518273 %\n",
            "              precision    recall  f1-score   support\n",
            "\n",
            "         0.0       0.90      0.93      0.91     10663\n",
            "         1.0       0.69      0.62      0.65      2882\n",
            "\n",
            "    accuracy                           0.86     13545\n",
            "   macro avg       0.80      0.77      0.78     13545\n",
            "weighted avg       0.85      0.86      0.86     13545\n",
            "\n"
          ]
        }
      ]
    },
    {
      "cell_type": "code",
      "source": [
        "from imblearn.under_sampling import RandomUnderSampler\n",
        "undersampler = RandomUnderSampler(random_state=42)\n",
        "x_train_undersampled, y_train_undersampled = undersampler.fit_resample(x_train, y_train)\n",
        "\n",
        "# Define the XGBoost classifier\n",
        "xgb = XGBClassifier(n_estimators=300, max_depth=7, learning_rate=0.1)\n",
        "\n",
        "# Fit the model using the undersampled data\n",
        "xgb.fit(x_train_undersampled, y_train_undersampled)\n",
        "\n",
        "# Make predictions on the test set\n",
        "predicted = xgb.predict(x_test)\n",
        "\n",
        "# Calculate accuracy\n",
        "accuracy = accuracy_score(y_test, predicted)\n",
        "print(\"Accuracy using XGBoost after undersampling:\", accuracy * 100, \"%\")\n",
        "print(classification_report(y_test, predicted))"
      ],
      "metadata": {
        "colab": {
          "base_uri": "https://localhost:8080/"
        },
        "id": "Or6wJ-1EmuUz",
        "outputId": "1d702f1d-e2ae-4e86-d0cd-aebc54ec1618"
      },
      "execution_count": 12,
      "outputs": [
        {
          "output_type": "stream",
          "name": "stdout",
          "text": [
            "Accuracy using XGBoost after undersampling: 80.5094130675526 %\n",
            "              precision    recall  f1-score   support\n",
            "\n",
            "         0.0       0.94      0.80      0.87     10663\n",
            "         1.0       0.53      0.81      0.64      2882\n",
            "\n",
            "    accuracy                           0.81     13545\n",
            "   macro avg       0.73      0.81      0.75     13545\n",
            "weighted avg       0.85      0.81      0.82     13545\n",
            "\n"
          ]
        }
      ]
    },
    {
      "cell_type": "code",
      "source": [],
      "metadata": {
        "id": "suSdxthfozpm"
      },
      "execution_count": null,
      "outputs": []
    }
  ]
}