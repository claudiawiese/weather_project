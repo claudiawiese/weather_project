{
  "nbformat": 4,
  "nbformat_minor": 0,
  "metadata": {
    "colab": {
      "provenance": []
    },
    "kernelspec": {
      "name": "python3",
      "display_name": "Python 3"
    },
    "language_info": {
      "name": "python"
    }
  },
  "cells": [
    {
      "cell_type": "markdown",
      "source": [
        "**1. Import libraries**"
      ],
      "metadata": {
        "id": "I0JqxfDMkJ9F"
      }
    },
    {
      "cell_type": "code",
      "execution_count": null,
      "metadata": {
        "colab": {
          "base_uri": "https://localhost:8080/"
        },
        "id": "qFrUwEWBL-Ut",
        "outputId": "8903d8f4-eeff-4b1c-9987-3b34fcce7db1"
      },
      "outputs": [
        {
          "output_type": "stream",
          "name": "stdout",
          "text": [
            "Epoch 1/10\n",
            "1077/1077 [==============================] - 4s 3ms/step - loss: 0.3654 - accuracy: 0.8383 - val_loss: 0.3533 - val_accuracy: 0.8434\n",
            "Epoch 2/10\n",
            "1077/1077 [==============================] - 4s 3ms/step - loss: 0.3436 - accuracy: 0.8460 - val_loss: 0.3454 - val_accuracy: 0.8471\n",
            "Epoch 3/10\n",
            "1077/1077 [==============================] - 3s 2ms/step - loss: 0.3375 - accuracy: 0.8485 - val_loss: 0.3406 - val_accuracy: 0.8514\n",
            "Epoch 4/10\n",
            "1077/1077 [==============================] - 3s 3ms/step - loss: 0.3324 - accuracy: 0.8505 - val_loss: 0.3385 - val_accuracy: 0.8546\n",
            "Epoch 5/10\n",
            "1077/1077 [==============================] - 3s 3ms/step - loss: 0.3286 - accuracy: 0.8521 - val_loss: 0.3355 - val_accuracy: 0.8527\n",
            "Epoch 6/10\n",
            "1077/1077 [==============================] - 3s 3ms/step - loss: 0.3259 - accuracy: 0.8540 - val_loss: 0.3372 - val_accuracy: 0.8512\n",
            "Epoch 7/10\n",
            "1077/1077 [==============================] - 3s 3ms/step - loss: 0.3233 - accuracy: 0.8544 - val_loss: 0.3325 - val_accuracy: 0.8577\n",
            "Epoch 8/10\n",
            "1077/1077 [==============================] - 3s 2ms/step - loss: 0.3206 - accuracy: 0.8560 - val_loss: 0.3366 - val_accuracy: 0.8534\n",
            "Epoch 9/10\n",
            "1077/1077 [==============================] - 3s 3ms/step - loss: 0.3194 - accuracy: 0.8566 - val_loss: 0.3393 - val_accuracy: 0.8541\n",
            "Epoch 10/10\n",
            "1077/1077 [==============================] - 3s 3ms/step - loss: 0.3175 - accuracy: 0.8589 - val_loss: 0.3325 - val_accuracy: 0.8573\n",
            "337/337 [==============================] - 1s 2ms/step\n"
          ]
        }
      ],
      "source": [
        "import pandas as pd\n",
        "import numpy as np\n",
        "from sklearn.model_selection import train_test_split\n",
        "from sklearn.preprocessing import StandardScaler\n",
        "from sklearn.metrics import accuracy_score\n",
        "import tensorflow as tf\n",
        "from tensorflow.keras.models import Sequential\n",
        "from tensorflow.keras.layers import Dense\n",
        "\n",
        "# Load the dataset\n",
        "df = pd.read_csv('weatherAUS_imputed.csv')\n",
        "\n"
      ]
    },
    {
      "cell_type": "markdown",
      "source": [
        "**2. Basic model**"
      ],
      "metadata": {
        "id": "OokfDsmlj5i4"
      }
    },
    {
      "cell_type": "code",
      "source": [
        "# Split the data into features and target variable\n",
        "X = df.drop(columns=['RainTomorrow'])\n",
        "y = df['RainTomorrow']\n",
        "\n",
        "# Exclude non-numeric columns\n",
        "numeric_cols = X.select_dtypes(include=['number']).columns\n",
        "X_numeric = X[numeric_cols]\n",
        "\n",
        "# Split the data into training and testing sets\n",
        "X_train, X_test, y_train, y_test = train_test_split(X_numeric, y, test_size=0.2, random_state=42)\n",
        "\n",
        "\n",
        "# Standardize the features\n",
        "scaler = StandardScaler()\n",
        "X_train_scaled = scaler.fit_transform(X_train)\n",
        "X_test_scaled = scaler.transform(X_test)\n",
        "\n",
        "# Define the neural network model\n",
        "model = Sequential([\n",
        "    Dense(64, activation='relu', input_shape=(X_train_scaled.shape[1],)),\n",
        "    Dense(32, activation='relu'),\n",
        "    Dense(16, activation='relu'),\n",
        "    Dense(1, activation='sigmoid')\n",
        "])\n",
        "\n",
        "# Compile the model\n",
        "model.compile(optimizer='adam', loss='binary_crossentropy', metrics=['accuracy'])\n",
        "\n",
        "# Train the model\n",
        "model.fit(X_train_scaled, y_train, epochs=10, batch_size=32, validation_split=0.2)\n",
        "\n",
        "# Predict probabilities for the test set\n",
        "y_pred_prob = model.predict(X_test_scaled)\n",
        "\n",
        "# Convert probabilities to class labels using a threshold (e.g., 0.5)\n",
        "y_pred = (y_pred_prob > 0.5).astype(int)\n"
      ],
      "metadata": {
        "id": "jtGGsH57j6WL"
      },
      "execution_count": null,
      "outputs": []
    },
    {
      "cell_type": "code",
      "source": [
        "from sklearn.metrics import accuracy_score, recall_score, f1_score\n",
        "\n",
        "# Evaluate the model\n",
        "accuracy = accuracy_score(y_test, y_pred)\n",
        "recall = recall_score(y_test, y_pred)\n",
        "f1 = f1_score(y_test, y_pred)\n",
        "\n",
        "print(\"Accuracy:\", accuracy)\n",
        "print(\"Recall:\", recall)\n",
        "print(\"F1-score:\", f1)"
      ],
      "metadata": {
        "colab": {
          "base_uri": "https://localhost:8080/"
        },
        "id": "KglytQuQf_pW",
        "outputId": "f7b62286-65da-48d8-f933-a3dbfa40ead1"
      },
      "execution_count": null,
      "outputs": [
        {
          "output_type": "stream",
          "name": "stdout",
          "text": [
            "Accuracy: 0.8534546805349182\n",
            "Recall: 0.5679770679770679\n",
            "F1-score: 0.637408088235294\n"
          ]
        }
      ]
    },
    {
      "cell_type": "code",
      "source": [
        "from sklearn.metrics import classification_report\n",
        "report = classification_report(y_test, y_pred)\n",
        "\n",
        "# Print the classification report\n",
        "print(report)"
      ],
      "metadata": {
        "colab": {
          "base_uri": "https://localhost:8080/"
        },
        "id": "Y30Caj6nECxX",
        "outputId": "a5b7b7ee-fc0d-4772-dfa2-f184a87b7234"
      },
      "execution_count": null,
      "outputs": [
        {
          "output_type": "stream",
          "name": "stdout",
          "text": [
            "              precision    recall  f1-score   support\n",
            "\n",
            "         0.0       0.88      0.94      0.91      8326\n",
            "         1.0       0.73      0.57      0.64      2442\n",
            "\n",
            "    accuracy                           0.85     10768\n",
            "   macro avg       0.80      0.75      0.77     10768\n",
            "weighted avg       0.85      0.85      0.85     10768\n",
            "\n"
          ]
        }
      ]
    },
    {
      "cell_type": "markdown",
      "source": [
        "**3. Early stopping**"
      ],
      "metadata": {
        "id": "An7gPynukaCr"
      }
    },
    {
      "cell_type": "code",
      "source": [
        "\n",
        "from tensorflow.keras.models import Sequential\n",
        "from tensorflow.keras.layers import Dense, Dropout\n",
        "from tensorflow.keras.callbacks import EarlyStopping\n",
        "\n",
        "# Define the neural network model\n",
        "model = Sequential([\n",
        "    Dense(64, activation='relu', input_shape=(X_train_scaled.shape[1],)),\n",
        "    Dropout(0.5),  # Add dropout layer to reduce overfitting\n",
        "    Dense(32, activation='relu'),\n",
        "    Dropout(0.5),  # Add dropout layer to reduce overfitting\n",
        "    Dense(1, activation='sigmoid')\n",
        "])\n",
        "\n",
        "# Compile the model\n",
        "model.compile(optimizer='adam', loss='binary_crossentropy', metrics=['accuracy'])\n",
        "\n",
        "# Define early stopping callback\n",
        "early_stopping = EarlyStopping(monitor='val_loss', patience=5, restore_best_weights=True)\n",
        "\n",
        "# Train the model\n",
        "history = model.fit(X_train_scaled, y_train, epochs=50, batch_size=32, validation_split=0.2, callbacks=[early_stopping])\n",
        "\n",
        "# Evaluate the model\n",
        "y_pred_prob = model.predict(X_test_scaled)\n",
        "y_pred = (y_pred_prob > 0.5).astype(int)\n",
        "\n",
        "accuracy = accuracy_score(y_test, y_pred)\n",
        "recall = recall_score(y_test, y_pred)\n",
        "f1 = f1_score(y_test, y_pred)\n",
        "\n",
        "print(\"Accuracy:\", accuracy)\n",
        "print(\"Recall:\", recall)\n",
        "print(\"F1-score:\", f1)\n",
        "\n",
        "\n"
      ],
      "metadata": {
        "colab": {
          "base_uri": "https://localhost:8080/"
        },
        "id": "QBbdc5_INjCN",
        "outputId": "d52db6f9-f722-478d-c2dc-7023a287c88a"
      },
      "execution_count": null,
      "outputs": [
        {
          "output_type": "stream",
          "name": "stdout",
          "text": [
            "Epoch 1/50\n",
            "1355/1355 [==============================] - 5s 3ms/step - loss: 0.3972 - accuracy: 0.8202 - val_loss: 0.3358 - val_accuracy: 0.8568\n",
            "Epoch 2/50\n",
            "1355/1355 [==============================] - 5s 4ms/step - loss: 0.3618 - accuracy: 0.8423 - val_loss: 0.3323 - val_accuracy: 0.8580\n",
            "Epoch 3/50\n",
            "1355/1355 [==============================] - 4s 3ms/step - loss: 0.3526 - accuracy: 0.8459 - val_loss: 0.3282 - val_accuracy: 0.8587\n",
            "Epoch 4/50\n",
            "1355/1355 [==============================] - 3s 2ms/step - loss: 0.3500 - accuracy: 0.8453 - val_loss: 0.3252 - val_accuracy: 0.8596\n",
            "Epoch 5/50\n",
            "1355/1355 [==============================] - 3s 2ms/step - loss: 0.3457 - accuracy: 0.8481 - val_loss: 0.3240 - val_accuracy: 0.8612\n",
            "Epoch 6/50\n",
            "1355/1355 [==============================] - 3s 2ms/step - loss: 0.3452 - accuracy: 0.8495 - val_loss: 0.3230 - val_accuracy: 0.8604\n",
            "Epoch 7/50\n",
            "1355/1355 [==============================] - 3s 3ms/step - loss: 0.3433 - accuracy: 0.8495 - val_loss: 0.3247 - val_accuracy: 0.8608\n",
            "Epoch 8/50\n",
            "1355/1355 [==============================] - 3s 2ms/step - loss: 0.3420 - accuracy: 0.8498 - val_loss: 0.3225 - val_accuracy: 0.8616\n",
            "Epoch 9/50\n",
            "1355/1355 [==============================] - 3s 2ms/step - loss: 0.3426 - accuracy: 0.8492 - val_loss: 0.3221 - val_accuracy: 0.8617\n",
            "Epoch 10/50\n",
            "1355/1355 [==============================] - 3s 2ms/step - loss: 0.3404 - accuracy: 0.8516 - val_loss: 0.3215 - val_accuracy: 0.8610\n",
            "Epoch 11/50\n",
            "1355/1355 [==============================] - 3s 3ms/step - loss: 0.3398 - accuracy: 0.8513 - val_loss: 0.3210 - val_accuracy: 0.8594\n",
            "Epoch 12/50\n",
            "1355/1355 [==============================] - 3s 2ms/step - loss: 0.3400 - accuracy: 0.8503 - val_loss: 0.3209 - val_accuracy: 0.8609\n",
            "Epoch 13/50\n",
            "1355/1355 [==============================] - 3s 2ms/step - loss: 0.3401 - accuracy: 0.8521 - val_loss: 0.3196 - val_accuracy: 0.8628\n",
            "Epoch 14/50\n",
            "1355/1355 [==============================] - 3s 2ms/step - loss: 0.3397 - accuracy: 0.8513 - val_loss: 0.3200 - val_accuracy: 0.8601\n",
            "Epoch 15/50\n",
            "1355/1355 [==============================] - 4s 3ms/step - loss: 0.3393 - accuracy: 0.8492 - val_loss: 0.3199 - val_accuracy: 0.8616\n",
            "Epoch 16/50\n",
            "1355/1355 [==============================] - 3s 2ms/step - loss: 0.3384 - accuracy: 0.8511 - val_loss: 0.3199 - val_accuracy: 0.8616\n",
            "Epoch 17/50\n",
            "1355/1355 [==============================] - 3s 2ms/step - loss: 0.3391 - accuracy: 0.8511 - val_loss: 0.3198 - val_accuracy: 0.8614\n",
            "Epoch 18/50\n",
            "1355/1355 [==============================] - 4s 3ms/step - loss: 0.3392 - accuracy: 0.8518 - val_loss: 0.3188 - val_accuracy: 0.8625\n",
            "Epoch 19/50\n",
            "1355/1355 [==============================] - 3s 3ms/step - loss: 0.3381 - accuracy: 0.8516 - val_loss: 0.3192 - val_accuracy: 0.8621\n",
            "Epoch 20/50\n",
            "1355/1355 [==============================] - 3s 2ms/step - loss: 0.3362 - accuracy: 0.8519 - val_loss: 0.3181 - val_accuracy: 0.8623\n",
            "Epoch 21/50\n",
            "1355/1355 [==============================] - 3s 2ms/step - loss: 0.3357 - accuracy: 0.8538 - val_loss: 0.3201 - val_accuracy: 0.8633\n",
            "Epoch 22/50\n",
            "1355/1355 [==============================] - 4s 3ms/step - loss: 0.3392 - accuracy: 0.8508 - val_loss: 0.3182 - val_accuracy: 0.8626\n",
            "Epoch 23/50\n",
            "1355/1355 [==============================] - 3s 2ms/step - loss: 0.3359 - accuracy: 0.8520 - val_loss: 0.3193 - val_accuracy: 0.8629\n",
            "Epoch 24/50\n",
            "1355/1355 [==============================] - 3s 2ms/step - loss: 0.3358 - accuracy: 0.8522 - val_loss: 0.3193 - val_accuracy: 0.8594\n",
            "Epoch 25/50\n",
            "1355/1355 [==============================] - 3s 2ms/step - loss: 0.3367 - accuracy: 0.8522 - val_loss: 0.3181 - val_accuracy: 0.8626\n",
            "424/424 [==============================] - 1s 1ms/step\n",
            "Accuracy: 0.8538944259874492\n",
            "Recall: 0.5180430256766134\n",
            "F1-score: 0.6014098690835851\n"
          ]
        }
      ]
    },
    {
      "cell_type": "code",
      "source": [
        "from tensorflow.keras.optimizers import Adam\n",
        "\n",
        "# Define the neural network model\n",
        "model = Sequential([\n",
        "    Dense(128, activation='relu', input_shape=(X_train_scaled.shape[1],)),\n",
        "    Dropout(0.5),  # Add dropout layer to reduce overfitting\n",
        "    Dense(64, activation='relu'),\n",
        "    Dropout(0.5),  # Add dropout layer to reduce overfitting\n",
        "    Dense(1, activation='sigmoid')\n",
        "])\n",
        "\n",
        "# Compile the model with a lower learning rate\n",
        "optimizer = Adam(lr=0.001)\n",
        "model.compile(optimizer=optimizer, loss='binary_crossentropy', metrics=['accuracy'])\n",
        "\n",
        "# Define early stopping callback\n",
        "early_stopping = EarlyStopping(monitor='val_loss', patience=5, restore_best_weights=True)\n",
        "\n",
        "# Train the model\n",
        "history = model.fit(X_train_scaled, y_train, epochs=50, batch_size=32, validation_split=0.2, callbacks=[early_stopping])\n",
        "\n",
        "# Evaluate the model\n",
        "y_pred_prob = model.predict(X_test_scaled)\n",
        "y_pred = (y_pred_prob > 0.5).astype(int)\n",
        "\n",
        "accuracy = accuracy_score(y_test, y_pred)\n",
        "recall = recall_score(y_test, y_pred)\n",
        "f1 = f1_score(y_test, y_pred)\n",
        "\n",
        "print(\"Accuracy:\", accuracy)\n",
        "print(\"Recall:\", recall)\n",
        "print(\"F1-score:\", f1)\n"
      ],
      "metadata": {
        "colab": {
          "base_uri": "https://localhost:8080/"
        },
        "id": "e_Z0pom9ilgE",
        "outputId": "80d32128-8695-4800-ae67-ae21718da5cc"
      },
      "execution_count": null,
      "outputs": [
        {
          "output_type": "stream",
          "name": "stderr",
          "text": [
            "WARNING:absl:`lr` is deprecated in Keras optimizer, please use `learning_rate` or use the legacy optimizer, e.g.,tf.keras.optimizers.legacy.Adam.\n"
          ]
        },
        {
          "output_type": "stream",
          "name": "stdout",
          "text": [
            "Epoch 1/50\n",
            "1355/1355 [==============================] - 5s 3ms/step - loss: 0.3746 - accuracy: 0.8340 - val_loss: 0.3315 - val_accuracy: 0.8567\n",
            "Epoch 2/50\n",
            "1355/1355 [==============================] - 4s 3ms/step - loss: 0.3488 - accuracy: 0.8472 - val_loss: 0.3259 - val_accuracy: 0.8590\n",
            "Epoch 3/50\n",
            "1355/1355 [==============================] - 3s 2ms/step - loss: 0.3437 - accuracy: 0.8505 - val_loss: 0.3232 - val_accuracy: 0.8615\n",
            "Epoch 4/50\n",
            "1355/1355 [==============================] - 3s 2ms/step - loss: 0.3408 - accuracy: 0.8502 - val_loss: 0.3222 - val_accuracy: 0.8620\n",
            "Epoch 5/50\n",
            "1355/1355 [==============================] - 3s 2ms/step - loss: 0.3397 - accuracy: 0.8506 - val_loss: 0.3208 - val_accuracy: 0.8629\n",
            "Epoch 6/50\n",
            "1355/1355 [==============================] - 4s 3ms/step - loss: 0.3369 - accuracy: 0.8534 - val_loss: 0.3212 - val_accuracy: 0.8641\n",
            "Epoch 7/50\n",
            "1355/1355 [==============================] - 3s 2ms/step - loss: 0.3366 - accuracy: 0.8526 - val_loss: 0.3194 - val_accuracy: 0.8629\n",
            "Epoch 8/50\n",
            "1355/1355 [==============================] - 3s 2ms/step - loss: 0.3338 - accuracy: 0.8528 - val_loss: 0.3219 - val_accuracy: 0.8618\n",
            "Epoch 9/50\n",
            "1355/1355 [==============================] - 3s 3ms/step - loss: 0.3344 - accuracy: 0.8528 - val_loss: 0.3197 - val_accuracy: 0.8637\n",
            "Epoch 10/50\n",
            "1355/1355 [==============================] - 4s 3ms/step - loss: 0.3334 - accuracy: 0.8537 - val_loss: 0.3189 - val_accuracy: 0.8628\n",
            "Epoch 11/50\n",
            "1355/1355 [==============================] - 3s 2ms/step - loss: 0.3315 - accuracy: 0.8546 - val_loss: 0.3175 - val_accuracy: 0.8630\n",
            "Epoch 12/50\n",
            "1355/1355 [==============================] - 3s 2ms/step - loss: 0.3312 - accuracy: 0.8551 - val_loss: 0.3179 - val_accuracy: 0.8622\n",
            "Epoch 13/50\n",
            "1355/1355 [==============================] - 4s 3ms/step - loss: 0.3310 - accuracy: 0.8537 - val_loss: 0.3177 - val_accuracy: 0.8625\n",
            "Epoch 14/50\n",
            "1355/1355 [==============================] - 3s 2ms/step - loss: 0.3310 - accuracy: 0.8556 - val_loss: 0.3183 - val_accuracy: 0.8634\n",
            "Epoch 15/50\n",
            "1355/1355 [==============================] - 3s 2ms/step - loss: 0.3302 - accuracy: 0.8559 - val_loss: 0.3169 - val_accuracy: 0.8630\n",
            "Epoch 16/50\n",
            "1355/1355 [==============================] - 3s 2ms/step - loss: 0.3306 - accuracy: 0.8558 - val_loss: 0.3175 - val_accuracy: 0.8619\n",
            "Epoch 17/50\n",
            "1355/1355 [==============================] - 4s 3ms/step - loss: 0.3302 - accuracy: 0.8546 - val_loss: 0.3178 - val_accuracy: 0.8632\n",
            "Epoch 18/50\n",
            "1355/1355 [==============================] - 3s 2ms/step - loss: 0.3291 - accuracy: 0.8539 - val_loss: 0.3155 - val_accuracy: 0.8625\n",
            "Epoch 19/50\n",
            "1355/1355 [==============================] - 3s 2ms/step - loss: 0.3283 - accuracy: 0.8569 - val_loss: 0.3166 - val_accuracy: 0.8626\n",
            "Epoch 20/50\n",
            "1355/1355 [==============================] - 3s 2ms/step - loss: 0.3280 - accuracy: 0.8568 - val_loss: 0.3167 - val_accuracy: 0.8642\n",
            "Epoch 21/50\n",
            "1355/1355 [==============================] - 4s 3ms/step - loss: 0.3274 - accuracy: 0.8567 - val_loss: 0.3157 - val_accuracy: 0.8633\n",
            "Epoch 22/50\n",
            "1355/1355 [==============================] - 4s 3ms/step - loss: 0.3281 - accuracy: 0.8557 - val_loss: 0.3157 - val_accuracy: 0.8648\n",
            "Epoch 23/50\n",
            "1355/1355 [==============================] - 4s 3ms/step - loss: 0.3279 - accuracy: 0.8571 - val_loss: 0.3144 - val_accuracy: 0.8644\n",
            "Epoch 24/50\n",
            "1355/1355 [==============================] - 5s 3ms/step - loss: 0.3272 - accuracy: 0.8573 - val_loss: 0.3173 - val_accuracy: 0.8646\n",
            "Epoch 25/50\n",
            "1355/1355 [==============================] - 3s 2ms/step - loss: 0.3256 - accuracy: 0.8568 - val_loss: 0.3167 - val_accuracy: 0.8622\n",
            "Epoch 26/50\n",
            "1355/1355 [==============================] - 3s 2ms/step - loss: 0.3268 - accuracy: 0.8561 - val_loss: 0.3168 - val_accuracy: 0.8646\n",
            "Epoch 27/50\n",
            "1355/1355 [==============================] - 3s 2ms/step - loss: 0.3256 - accuracy: 0.8569 - val_loss: 0.3151 - val_accuracy: 0.8639\n",
            "Epoch 28/50\n",
            "1355/1355 [==============================] - 4s 3ms/step - loss: 0.3232 - accuracy: 0.8578 - val_loss: 0.3148 - val_accuracy: 0.8642\n",
            "424/424 [==============================] - 1s 2ms/step\n",
            "Accuracy: 0.8566998892580288\n",
            "Recall: 0.5062456627342123\n",
            "F1-score: 0.6005350895245936\n"
          ]
        }
      ]
    },
    {
      "cell_type": "code",
      "source": [
        "# Define the neural network model\n",
        "model = Sequential([\n",
        "    Dense(128, activation='relu', input_shape=(X_train_scaled.shape[1],)),\n",
        "    Dropout(0.5),  # Add dropout layer to reduce overfitting\n",
        "    Dense(64, activation='relu'),\n",
        "    Dropout(0.5),  # Add dropout layer to reduce overfitting\n",
        "    Dense(32, activation='relu'),  # Add an additional hidden layer\n",
        "    Dropout(0.5),  # Add dropout layer to reduce overfitting\n",
        "    Dense(1, activation='sigmoid')\n",
        "])\n",
        "\n",
        "# Compile the model with a lower learning rate\n",
        "optimizer = Adam(lr=0.0005)  # Reduce learning rate further\n",
        "model.compile(optimizer=optimizer, loss='binary_crossentropy', metrics=['accuracy'])\n",
        "\n",
        "# Define early stopping callback\n",
        "early_stopping = EarlyStopping(monitor='val_loss', patience=5, restore_best_weights=True)\n",
        "\n",
        "# Train the model\n",
        "history = model.fit(X_train_scaled, y_train, epochs=50, batch_size=32, validation_split=0.2, callbacks=[early_stopping])\n",
        "\n",
        "# Evaluate the model\n",
        "y_pred_prob = model.predict(X_test_scaled)\n",
        "y_pred = (y_pred_prob > 0.5).astype(int)\n",
        "\n",
        "accuracy = accuracy_score(y_test, y_pred)\n",
        "recall = recall_score(y_test, y_pred)\n",
        "f1 = f1_score(y_test, y_pred)\n",
        "\n",
        "print(\"Accuracy:\", accuracy)\n",
        "print(\"Recall:\", recall)\n",
        "print(\"F1-score:\", f1)"
      ],
      "metadata": {
        "colab": {
          "base_uri": "https://localhost:8080/"
        },
        "id": "KvcEJkc_f4-H",
        "outputId": "7c402084-f2a4-485c-c373-ed8a2e59a6f0"
      },
      "execution_count": null,
      "outputs": [
        {
          "output_type": "stream",
          "name": "stderr",
          "text": [
            "WARNING:absl:`lr` is deprecated in Keras optimizer, please use `learning_rate` or use the legacy optimizer, e.g.,tf.keras.optimizers.legacy.Adam.\n"
          ]
        },
        {
          "output_type": "stream",
          "name": "stdout",
          "text": [
            "Epoch 1/50\n",
            "1355/1355 [==============================] - 5s 3ms/step - loss: 0.3954 - accuracy: 0.8247 - val_loss: 0.3401 - val_accuracy: 0.8576\n",
            "Epoch 2/50\n",
            "1355/1355 [==============================] - 3s 2ms/step - loss: 0.3618 - accuracy: 0.8431 - val_loss: 0.3318 - val_accuracy: 0.8594\n",
            "Epoch 3/50\n",
            "1355/1355 [==============================] - 3s 2ms/step - loss: 0.3565 - accuracy: 0.8456 - val_loss: 0.3296 - val_accuracy: 0.8599\n",
            "Epoch 4/50\n",
            "1355/1355 [==============================] - 4s 3ms/step - loss: 0.3515 - accuracy: 0.8470 - val_loss: 0.3274 - val_accuracy: 0.8592\n",
            "Epoch 5/50\n",
            "1355/1355 [==============================] - 3s 2ms/step - loss: 0.3497 - accuracy: 0.8481 - val_loss: 0.3261 - val_accuracy: 0.8609\n",
            "Epoch 6/50\n",
            "1355/1355 [==============================] - 4s 3ms/step - loss: 0.3458 - accuracy: 0.8482 - val_loss: 0.3228 - val_accuracy: 0.8609\n",
            "Epoch 7/50\n",
            "1355/1355 [==============================] - 4s 3ms/step - loss: 0.3448 - accuracy: 0.8484 - val_loss: 0.3240 - val_accuracy: 0.8614\n",
            "Epoch 8/50\n",
            "1355/1355 [==============================] - 4s 3ms/step - loss: 0.3425 - accuracy: 0.8497 - val_loss: 0.3211 - val_accuracy: 0.8608\n",
            "Epoch 9/50\n",
            "1355/1355 [==============================] - 3s 3ms/step - loss: 0.3418 - accuracy: 0.8513 - val_loss: 0.3220 - val_accuracy: 0.8630\n",
            "Epoch 10/50\n",
            "1355/1355 [==============================] - 3s 3ms/step - loss: 0.3409 - accuracy: 0.8499 - val_loss: 0.3197 - val_accuracy: 0.8621\n",
            "Epoch 11/50\n",
            "1355/1355 [==============================] - 4s 3ms/step - loss: 0.3402 - accuracy: 0.8510 - val_loss: 0.3227 - val_accuracy: 0.8618\n",
            "Epoch 12/50\n",
            "1355/1355 [==============================] - 3s 2ms/step - loss: 0.3399 - accuracy: 0.8521 - val_loss: 0.3204 - val_accuracy: 0.8636\n",
            "Epoch 13/50\n",
            "1355/1355 [==============================] - 3s 2ms/step - loss: 0.3375 - accuracy: 0.8518 - val_loss: 0.3195 - val_accuracy: 0.8632\n",
            "Epoch 14/50\n",
            "1355/1355 [==============================] - 4s 3ms/step - loss: 0.3388 - accuracy: 0.8531 - val_loss: 0.3194 - val_accuracy: 0.8631\n",
            "Epoch 15/50\n",
            "1355/1355 [==============================] - 4s 3ms/step - loss: 0.3362 - accuracy: 0.8529 - val_loss: 0.3196 - val_accuracy: 0.8618\n",
            "Epoch 16/50\n",
            "1355/1355 [==============================] - 3s 2ms/step - loss: 0.3362 - accuracy: 0.8525 - val_loss: 0.3191 - val_accuracy: 0.8616\n",
            "Epoch 17/50\n",
            "1355/1355 [==============================] - 3s 2ms/step - loss: 0.3378 - accuracy: 0.8493 - val_loss: 0.3194 - val_accuracy: 0.8637\n",
            "Epoch 18/50\n",
            "1355/1355 [==============================] - 4s 3ms/step - loss: 0.3370 - accuracy: 0.8514 - val_loss: 0.3179 - val_accuracy: 0.8624\n",
            "Epoch 19/50\n",
            "1355/1355 [==============================] - 3s 2ms/step - loss: 0.3349 - accuracy: 0.8535 - val_loss: 0.3202 - val_accuracy: 0.8615\n",
            "Epoch 20/50\n",
            "1355/1355 [==============================] - 3s 2ms/step - loss: 0.3345 - accuracy: 0.8520 - val_loss: 0.3176 - val_accuracy: 0.8629\n",
            "Epoch 21/50\n",
            "1355/1355 [==============================] - 3s 3ms/step - loss: 0.3344 - accuracy: 0.8517 - val_loss: 0.3175 - val_accuracy: 0.8669\n",
            "Epoch 22/50\n",
            "1355/1355 [==============================] - 4s 3ms/step - loss: 0.3351 - accuracy: 0.8523 - val_loss: 0.3177 - val_accuracy: 0.8635\n",
            "Epoch 23/50\n",
            "1355/1355 [==============================] - 3s 2ms/step - loss: 0.3345 - accuracy: 0.8529 - val_loss: 0.3174 - val_accuracy: 0.8640\n",
            "Epoch 24/50\n",
            "1355/1355 [==============================] - 3s 2ms/step - loss: 0.3347 - accuracy: 0.8529 - val_loss: 0.3195 - val_accuracy: 0.8637\n",
            "Epoch 25/50\n",
            "1355/1355 [==============================] - 4s 3ms/step - loss: 0.3334 - accuracy: 0.8537 - val_loss: 0.3177 - val_accuracy: 0.8638\n",
            "Epoch 26/50\n",
            "1355/1355 [==============================] - 3s 2ms/step - loss: 0.3322 - accuracy: 0.8536 - val_loss: 0.3189 - val_accuracy: 0.8632\n",
            "Epoch 27/50\n",
            "1355/1355 [==============================] - 3s 3ms/step - loss: 0.3330 - accuracy: 0.8539 - val_loss: 0.3226 - val_accuracy: 0.8650\n",
            "Epoch 28/50\n",
            "1355/1355 [==============================] - 3s 3ms/step - loss: 0.3329 - accuracy: 0.8530 - val_loss: 0.3169 - val_accuracy: 0.8643\n",
            "Epoch 29/50\n",
            "1355/1355 [==============================] - 4s 3ms/step - loss: 0.3332 - accuracy: 0.8531 - val_loss: 0.3188 - val_accuracy: 0.8648\n",
            "Epoch 30/50\n",
            "1355/1355 [==============================] - 4s 3ms/step - loss: 0.3323 - accuracy: 0.8523 - val_loss: 0.3157 - val_accuracy: 0.8636\n",
            "Epoch 31/50\n",
            "1355/1355 [==============================] - 4s 3ms/step - loss: 0.3322 - accuracy: 0.8550 - val_loss: 0.3153 - val_accuracy: 0.8650\n",
            "Epoch 32/50\n",
            "1355/1355 [==============================] - 4s 3ms/step - loss: 0.3315 - accuracy: 0.8547 - val_loss: 0.3173 - val_accuracy: 0.8623\n",
            "Epoch 33/50\n",
            "1355/1355 [==============================] - 5s 3ms/step - loss: 0.3329 - accuracy: 0.8536 - val_loss: 0.3157 - val_accuracy: 0.8646\n",
            "Epoch 34/50\n",
            "1355/1355 [==============================] - 3s 3ms/step - loss: 0.3313 - accuracy: 0.8531 - val_loss: 0.3152 - val_accuracy: 0.8648\n",
            "Epoch 35/50\n",
            "1355/1355 [==============================] - 3s 3ms/step - loss: 0.3303 - accuracy: 0.8548 - val_loss: 0.3164 - val_accuracy: 0.8654\n",
            "Epoch 36/50\n",
            "1355/1355 [==============================] - 4s 3ms/step - loss: 0.3324 - accuracy: 0.8542 - val_loss: 0.3201 - val_accuracy: 0.8637\n",
            "Epoch 37/50\n",
            "1355/1355 [==============================] - 4s 3ms/step - loss: 0.3318 - accuracy: 0.8531 - val_loss: 0.3160 - val_accuracy: 0.8625\n",
            "Epoch 38/50\n",
            "1355/1355 [==============================] - 3s 2ms/step - loss: 0.3315 - accuracy: 0.8538 - val_loss: 0.3176 - val_accuracy: 0.8645\n",
            "Epoch 39/50\n",
            "1355/1355 [==============================] - 4s 3ms/step - loss: 0.3300 - accuracy: 0.8545 - val_loss: 0.3152 - val_accuracy: 0.8640\n",
            "424/424 [==============================] - 1s 1ms/step\n",
            "Accuracy: 0.8574381690660761\n",
            "Recall: 0.5242886884108258\n",
            "F1-score: 0.6101352715525944\n"
          ]
        }
      ]
    }
  ]
}