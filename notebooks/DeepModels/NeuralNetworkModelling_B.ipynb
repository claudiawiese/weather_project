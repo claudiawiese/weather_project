{
  "nbformat": 4,
  "nbformat_minor": 0,
  "metadata": {
    "colab": {
      "provenance": []
    },
    "kernelspec": {
      "name": "python3",
      "display_name": "Python 3"
    },
    "language_info": {
      "name": "python"
    }
  },
  "cells": [
    {
      "cell_type": "markdown",
      "source": [
        "**1. Import libraries**"
      ],
      "metadata": {
        "id": "I0JqxfDMkJ9F"
      }
    },
    {
      "cell_type": "code",
      "execution_count": 1,
      "metadata": {
        "id": "qFrUwEWBL-Ut"
      },
      "outputs": [],
      "source": [
        "import pandas as pd\n",
        "import numpy as np\n",
        "from sklearn.model_selection import train_test_split\n",
        "from sklearn.preprocessing import StandardScaler\n",
        "from sklearn.metrics import accuracy_score\n",
        "import tensorflow as tf\n",
        "from tensorflow.keras.models import Sequential\n",
        "from tensorflow.keras.layers import Dense\n",
        "\n",
        "# Load the dataset\n",
        "df = pd.read_csv('weatherAUS_imputed.csv')\n",
        "\n"
      ]
    },
    {
      "cell_type": "markdown",
      "source": [
        "**2. Basic model**"
      ],
      "metadata": {
        "id": "OokfDsmlj5i4"
      }
    },
    {
      "cell_type": "code",
      "source": [
        "# Split the data into features and target variable\n",
        "X = df.drop(columns=['RainTomorrow'])\n",
        "y = df['RainTomorrow']\n",
        "\n",
        "# Exclude non-numeric columns\n",
        "numeric_cols = X.select_dtypes(include=['number']).columns\n",
        "X_numeric = X[numeric_cols]\n",
        "\n",
        "# Split the data into training and testing sets\n",
        "X_train, X_test, y_train, y_test = train_test_split(X_numeric, y, test_size=0.2, random_state=42)\n",
        "\n",
        "\n",
        "# The data is already standardized in the preprocessing\n",
        "X_train_scaled = X_train\n",
        "X_test_scaled = X_test\n",
        "\n",
        "# Define the neural network model\n",
        "model = Sequential([\n",
        "    Dense(64, activation='relu', input_shape=(X_train_scaled.shape[1],)),\n",
        "    Dense(32, activation='relu'),\n",
        "    Dense(16, activation='relu'),\n",
        "    Dense(1, activation='sigmoid')\n",
        "])\n",
        "\n",
        "# Compile the model\n",
        "model.compile(optimizer='adam', loss='binary_crossentropy', metrics=['accuracy'])\n",
        "\n",
        "# Train the model\n",
        "model.fit(X_train_scaled, y_train, epochs=10, batch_size=32, validation_data=(X_test, y_test))\n",
        "\n",
        "# Predict probabilities for the test set\n",
        "y_pred_prob = model.predict(X_test_scaled)\n",
        "\n",
        "# Convert probabilities to class labels using a threshold (e.g., 0.5)\n",
        "y_pred = (y_pred_prob > 0.5).astype(int)\n"
      ],
      "metadata": {
        "id": "jtGGsH57j6WL",
        "colab": {
          "base_uri": "https://localhost:8080/"
        },
        "outputId": "3db18306-ff31-4b8e-a8f8-484d77873dea"
      },
      "execution_count": 18,
      "outputs": [
        {
          "output_type": "stream",
          "name": "stdout",
          "text": [
            "Epoch 1/10\n",
            "1694/1694 [==============================] - 7s 4ms/step - loss: 1.1472 - accuracy: 0.7751 - val_loss: 0.9213 - val_accuracy: 0.7942\n",
            "Epoch 2/10\n",
            "1694/1694 [==============================] - 4s 3ms/step - loss: 0.5455 - accuracy: 0.8031 - val_loss: 0.5220 - val_accuracy: 0.8193\n",
            "Epoch 3/10\n",
            "1694/1694 [==============================] - 5s 3ms/step - loss: 0.4510 - accuracy: 0.8176 - val_loss: 0.4172 - val_accuracy: 0.8295\n",
            "Epoch 4/10\n",
            "1694/1694 [==============================] - 6s 3ms/step - loss: 0.4195 - accuracy: 0.8242 - val_loss: 0.5223 - val_accuracy: 0.8072\n",
            "Epoch 5/10\n",
            "1694/1694 [==============================] - 4s 3ms/step - loss: 0.3944 - accuracy: 0.8307 - val_loss: 0.4220 - val_accuracy: 0.8238\n",
            "Epoch 6/10\n",
            "1694/1694 [==============================] - 6s 3ms/step - loss: 0.3829 - accuracy: 0.8315 - val_loss: 0.3589 - val_accuracy: 0.8400\n",
            "Epoch 7/10\n",
            "1694/1694 [==============================] - 4s 3ms/step - loss: 0.3674 - accuracy: 0.8375 - val_loss: 0.3471 - val_accuracy: 0.8474\n",
            "Epoch 8/10\n",
            "1694/1694 [==============================] - 5s 3ms/step - loss: 0.3650 - accuracy: 0.8382 - val_loss: 0.3508 - val_accuracy: 0.8461\n",
            "Epoch 9/10\n",
            "1694/1694 [==============================] - 5s 3ms/step - loss: 0.3647 - accuracy: 0.8393 - val_loss: 0.3888 - val_accuracy: 0.8292\n",
            "Epoch 10/10\n",
            "1694/1694 [==============================] - 5s 3ms/step - loss: 0.3624 - accuracy: 0.8397 - val_loss: 0.3654 - val_accuracy: 0.8388\n",
            "424/424 [==============================] - 1s 2ms/step\n"
          ]
        }
      ]
    },
    {
      "cell_type": "code",
      "source": [
        "from sklearn.metrics import accuracy_score, recall_score, f1_score\n",
        "\n",
        "# Evaluate the model\n",
        "accuracy = accuracy_score(y_test, y_pred)\n",
        "recall = recall_score(y_test, y_pred)\n",
        "f1 = f1_score(y_test, y_pred)\n",
        "\n",
        "print(\"Accuracy:\", accuracy)\n",
        "print(\"Recall:\", recall)\n",
        "print(\"F1-score:\", f1)"
      ],
      "metadata": {
        "colab": {
          "base_uri": "https://localhost:8080/"
        },
        "id": "KglytQuQf_pW",
        "outputId": "147e9a45-72ab-4e27-ee86-b029b0294fdc"
      },
      "execution_count": 19,
      "outputs": [
        {
          "output_type": "stream",
          "name": "stdout",
          "text": [
            "Accuracy: 0.8388335179032853\n",
            "Recall: 0.6106870229007634\n",
            "F1-score: 0.6172190075398913\n"
          ]
        }
      ]
    },
    {
      "cell_type": "code",
      "source": [
        "from sklearn.metrics import classification_report\n",
        "report = classification_report(y_test, y_pred)\n",
        "\n",
        "# Print the classification report\n",
        "print(report)"
      ],
      "metadata": {
        "colab": {
          "base_uri": "https://localhost:8080/"
        },
        "id": "Y30Caj6nECxX",
        "outputId": "5ed9b792-99e0-4862-dc5c-deac12ce6329"
      },
      "execution_count": 20,
      "outputs": [
        {
          "output_type": "stream",
          "name": "stdout",
          "text": [
            "              precision    recall  f1-score   support\n",
            "\n",
            "         0.0       0.90      0.90      0.90     10663\n",
            "         1.0       0.62      0.61      0.62      2882\n",
            "\n",
            "    accuracy                           0.84     13545\n",
            "   macro avg       0.76      0.76      0.76     13545\n",
            "weighted avg       0.84      0.84      0.84     13545\n",
            "\n"
          ]
        }
      ]
    }
  ]
}